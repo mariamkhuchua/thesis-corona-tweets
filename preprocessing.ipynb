{
 "cells": [
  {
   "cell_type": "markdown",
   "metadata": {},
   "source": [
    "## Preprocessing code\n",
    "Time and textual preprocessing. Insert movement name in the beginning.\n",
    "Example of USA Sunrise movement."
   ]
  },
  {
   "cell_type": "code",
   "execution_count": 1,
   "metadata": {},
   "outputs": [],
   "source": [
    "import pickle\n",
    "import pandas as pd\n",
    "import time\n",
    "import datetime"
   ]
  },
  {
   "cell_type": "code",
   "execution_count": 2,
   "metadata": {},
   "outputs": [],
   "source": [
    "movement = 'sunrise'\n",
    "week_last_day = 'W-SAT'\n",
    "crisis_starting_week = 8"
   ]
  },
  {
   "cell_type": "markdown",
   "metadata": {},
   "source": [
    "# 1. Time preprocessing: Order by weeks"
   ]
  },
  {
   "cell_type": "code",
   "execution_count": 3,
   "metadata": {},
   "outputs": [],
   "source": [
    "with open(f'data/raw/{movement}_tweets', 'rb') as file:\n",
    "    df = pickle.load(file)    "
   ]
  },
  {
   "cell_type": "code",
   "execution_count": 4,
   "metadata": {},
   "outputs": [
    {
     "data": {
      "text/html": [
       "<div>\n",
       "<style scoped>\n",
       "    .dataframe tbody tr th:only-of-type {\n",
       "        vertical-align: middle;\n",
       "    }\n",
       "\n",
       "    .dataframe tbody tr th {\n",
       "        vertical-align: top;\n",
       "    }\n",
       "\n",
       "    .dataframe thead th {\n",
       "        text-align: right;\n",
       "    }\n",
       "</style>\n",
       "<table border=\"1\" class=\"dataframe\">\n",
       "  <thead>\n",
       "    <tr style=\"text-align: right;\">\n",
       "      <th></th>\n",
       "      <th>created_at</th>\n",
       "      <th>id</th>\n",
       "      <th>full_text</th>\n",
       "      <th>retweet_count</th>\n",
       "      <th>favorite_count</th>\n",
       "      <th>favorited</th>\n",
       "      <th>retweeted</th>\n",
       "      <th>possibly_sensitive</th>\n",
       "      <th>lang</th>\n",
       "      <th>user.id</th>\n",
       "      <th>user.id_str</th>\n",
       "      <th>user.name</th>\n",
       "      <th>user.screen_name</th>\n",
       "      <th>user.location</th>\n",
       "      <th>user.description</th>\n",
       "      <th>user.url</th>\n",
       "      <th>user.followers_count</th>\n",
       "      <th>user.friends_count</th>\n",
       "      <th>user.created_at</th>\n",
       "    </tr>\n",
       "  </thead>\n",
       "  <tbody>\n",
       "    <tr>\n",
       "      <th>0</th>\n",
       "      <td>Fri Jun 12 21:51:01 +0000 2020</td>\n",
       "      <td>1271560665409310720</td>\n",
       "      <td>RT @dearnonnatives: Stop. Take a breath. Relax...</td>\n",
       "      <td>519</td>\n",
       "      <td>0</td>\n",
       "      <td>False</td>\n",
       "      <td>False</td>\n",
       "      <td>NaN</td>\n",
       "      <td>en</td>\n",
       "      <td>1151530473727746050</td>\n",
       "      <td>1151530473727746050</td>\n",
       "      <td>Sunrise Chico</td>\n",
       "      <td>SunriseChico</td>\n",
       "      <td>Chico, CA</td>\n",
       "      <td>Building a movement of young people to fight c...</td>\n",
       "      <td>https://t.co/n6ua26W2Lu</td>\n",
       "      <td>208</td>\n",
       "      <td>260</td>\n",
       "      <td>Wed Jul 17 16:33:54 +0000 2019</td>\n",
       "    </tr>\n",
       "    <tr>\n",
       "      <th>1</th>\n",
       "      <td>Fri Jun 12 21:50:18 +0000 2020</td>\n",
       "      <td>1271560482671824897</td>\n",
       "      <td>RT @cecaaay: SAY HIS NAME. ROBERT FULLER. He w...</td>\n",
       "      <td>160516</td>\n",
       "      <td>0</td>\n",
       "      <td>False</td>\n",
       "      <td>False</td>\n",
       "      <td>NaN</td>\n",
       "      <td>en</td>\n",
       "      <td>1151530473727746050</td>\n",
       "      <td>1151530473727746050</td>\n",
       "      <td>Sunrise Chico</td>\n",
       "      <td>SunriseChico</td>\n",
       "      <td>Chico, CA</td>\n",
       "      <td>Building a movement of young people to fight c...</td>\n",
       "      <td>https://t.co/n6ua26W2Lu</td>\n",
       "      <td>208</td>\n",
       "      <td>260</td>\n",
       "      <td>Wed Jul 17 16:33:54 +0000 2019</td>\n",
       "    </tr>\n",
       "    <tr>\n",
       "      <th>2</th>\n",
       "      <td>Fri Jun 12 05:12:52 +0000 2020</td>\n",
       "      <td>1271309471067762688</td>\n",
       "      <td>RT @crunchwrapsup37: If BLM disappeared from y...</td>\n",
       "      <td>66854</td>\n",
       "      <td>0</td>\n",
       "      <td>False</td>\n",
       "      <td>False</td>\n",
       "      <td>NaN</td>\n",
       "      <td>en</td>\n",
       "      <td>1151530473727746050</td>\n",
       "      <td>1151530473727746050</td>\n",
       "      <td>Sunrise Chico</td>\n",
       "      <td>SunriseChico</td>\n",
       "      <td>Chico, CA</td>\n",
       "      <td>Building a movement of young people to fight c...</td>\n",
       "      <td>https://t.co/n6ua26W2Lu</td>\n",
       "      <td>208</td>\n",
       "      <td>260</td>\n",
       "      <td>Wed Jul 17 16:33:54 +0000 2019</td>\n",
       "    </tr>\n",
       "    <tr>\n",
       "      <th>3</th>\n",
       "      <td>Fri Jun 12 05:10:31 +0000 2020</td>\n",
       "      <td>1271308879490514944</td>\n",
       "      <td>RT @ChicoNR: Local activist groups met downtow...</td>\n",
       "      <td>4</td>\n",
       "      <td>0</td>\n",
       "      <td>False</td>\n",
       "      <td>False</td>\n",
       "      <td>NaN</td>\n",
       "      <td>en</td>\n",
       "      <td>1151530473727746050</td>\n",
       "      <td>1151530473727746050</td>\n",
       "      <td>Sunrise Chico</td>\n",
       "      <td>SunriseChico</td>\n",
       "      <td>Chico, CA</td>\n",
       "      <td>Building a movement of young people to fight c...</td>\n",
       "      <td>https://t.co/n6ua26W2Lu</td>\n",
       "      <td>208</td>\n",
       "      <td>260</td>\n",
       "      <td>Wed Jul 17 16:33:54 +0000 2019</td>\n",
       "    </tr>\n",
       "    <tr>\n",
       "      <th>4</th>\n",
       "      <td>Fri Jun 12 02:47:50 +0000 2020</td>\n",
       "      <td>1271272974637621250</td>\n",
       "      <td>RT @MuseWendi: if you truly think black lives ...</td>\n",
       "      <td>5902</td>\n",
       "      <td>0</td>\n",
       "      <td>False</td>\n",
       "      <td>False</td>\n",
       "      <td>NaN</td>\n",
       "      <td>en</td>\n",
       "      <td>1151530473727746050</td>\n",
       "      <td>1151530473727746050</td>\n",
       "      <td>Sunrise Chico</td>\n",
       "      <td>SunriseChico</td>\n",
       "      <td>Chico, CA</td>\n",
       "      <td>Building a movement of young people to fight c...</td>\n",
       "      <td>https://t.co/n6ua26W2Lu</td>\n",
       "      <td>208</td>\n",
       "      <td>260</td>\n",
       "      <td>Wed Jul 17 16:33:54 +0000 2019</td>\n",
       "    </tr>\n",
       "  </tbody>\n",
       "</table>\n",
       "</div>"
      ],
      "text/plain": [
       "                       created_at                   id  \\\n",
       "0  Fri Jun 12 21:51:01 +0000 2020  1271560665409310720   \n",
       "1  Fri Jun 12 21:50:18 +0000 2020  1271560482671824897   \n",
       "2  Fri Jun 12 05:12:52 +0000 2020  1271309471067762688   \n",
       "3  Fri Jun 12 05:10:31 +0000 2020  1271308879490514944   \n",
       "4  Fri Jun 12 02:47:50 +0000 2020  1271272974637621250   \n",
       "\n",
       "                                           full_text  retweet_count  \\\n",
       "0  RT @dearnonnatives: Stop. Take a breath. Relax...            519   \n",
       "1  RT @cecaaay: SAY HIS NAME. ROBERT FULLER. He w...         160516   \n",
       "2  RT @crunchwrapsup37: If BLM disappeared from y...          66854   \n",
       "3  RT @ChicoNR: Local activist groups met downtow...              4   \n",
       "4  RT @MuseWendi: if you truly think black lives ...           5902   \n",
       "\n",
       "   favorite_count  favorited  retweeted possibly_sensitive lang  \\\n",
       "0               0      False      False                NaN   en   \n",
       "1               0      False      False                NaN   en   \n",
       "2               0      False      False                NaN   en   \n",
       "3               0      False      False                NaN   en   \n",
       "4               0      False      False                NaN   en   \n",
       "\n",
       "               user.id          user.id_str      user.name user.screen_name  \\\n",
       "0  1151530473727746050  1151530473727746050  Sunrise Chico     SunriseChico   \n",
       "1  1151530473727746050  1151530473727746050  Sunrise Chico     SunriseChico   \n",
       "2  1151530473727746050  1151530473727746050  Sunrise Chico     SunriseChico   \n",
       "3  1151530473727746050  1151530473727746050  Sunrise Chico     SunriseChico   \n",
       "4  1151530473727746050  1151530473727746050  Sunrise Chico     SunriseChico   \n",
       "\n",
       "  user.location                                   user.description  \\\n",
       "0     Chico, CA  Building a movement of young people to fight c...   \n",
       "1     Chico, CA  Building a movement of young people to fight c...   \n",
       "2     Chico, CA  Building a movement of young people to fight c...   \n",
       "3     Chico, CA  Building a movement of young people to fight c...   \n",
       "4     Chico, CA  Building a movement of young people to fight c...   \n",
       "\n",
       "                  user.url  user.followers_count  user.friends_count  \\\n",
       "0  https://t.co/n6ua26W2Lu                   208                 260   \n",
       "1  https://t.co/n6ua26W2Lu                   208                 260   \n",
       "2  https://t.co/n6ua26W2Lu                   208                 260   \n",
       "3  https://t.co/n6ua26W2Lu                   208                 260   \n",
       "4  https://t.co/n6ua26W2Lu                   208                 260   \n",
       "\n",
       "                  user.created_at  \n",
       "0  Wed Jul 17 16:33:54 +0000 2019  \n",
       "1  Wed Jul 17 16:33:54 +0000 2019  \n",
       "2  Wed Jul 17 16:33:54 +0000 2019  \n",
       "3  Wed Jul 17 16:33:54 +0000 2019  \n",
       "4  Wed Jul 17 16:33:54 +0000 2019  "
      ]
     },
     "execution_count": 4,
     "metadata": {},
     "output_type": "execute_result"
    }
   ],
   "source": [
    "df.head()"
   ]
  },
  {
   "cell_type": "code",
   "execution_count": 5,
   "metadata": {},
   "outputs": [],
   "source": [
    "def time_preprocessing(df, week_last_day, crisis_starting_week):\n",
    "    \"\"\"Takes raw data, adds timestamp, week number and crisis dummy variable\n",
    "    Week last day - 'W-SAT'for USA; 'W-WED' for UK\n",
    "    Crisis first week - 8 for US, 10 for UK\"\"\"\n",
    "    # Extract timestamp from the textual \"created_at\" column\n",
    "    df['timestamp'] = pd.to_datetime(df['created_at'], format='%a %b %d %H:%M:%S +0000 %Y')\n",
    "    # Remove data not needed right now\n",
    "    df = df[['timestamp', 'full_text', 'user.screen_name']]\n",
    "    # Remove tweets not included in the period taken for research (01.11.2019-30.06.2020)\n",
    "    df = df.loc[(df['timestamp'] > '2019-12-01') & (df['timestamp'] < '2020-05-31')].reset_index(drop=True)\n",
    "    # Add period\n",
    "    df['period'] = df['timestamp'].dt.to_period(week_last_day)\n",
    "    df = df.sort_values('period').reset_index(drop=True)\n",
    "    # Add case week number\n",
    "    i = 1\n",
    "    df['week_number'] = 0\n",
    "    for group_index, group in df.groupby('period'):\n",
    "        df.loc[df['period']==group_index, 'week_number'] = i\n",
    "        i += 1\n",
    "    # Add crisis parameter\n",
    "    df['crisis'] = 1\n",
    "    df.loc[df['week_number']<crisis_starting_week, 'crisis'] = 0\n",
    "    \n",
    "    return df"
   ]
  },
  {
   "cell_type": "code",
   "execution_count": 6,
   "metadata": {},
   "outputs": [],
   "source": [
    "df_time_preprocessed = time_preprocessing(df, week_last_day, crisis_starting_week)"
   ]
  },
  {
   "cell_type": "code",
   "execution_count": 7,
   "metadata": {},
   "outputs": [
    {
     "data": {
      "text/html": [
       "<div>\n",
       "<style scoped>\n",
       "    .dataframe tbody tr th:only-of-type {\n",
       "        vertical-align: middle;\n",
       "    }\n",
       "\n",
       "    .dataframe tbody tr th {\n",
       "        vertical-align: top;\n",
       "    }\n",
       "\n",
       "    .dataframe thead th {\n",
       "        text-align: right;\n",
       "    }\n",
       "</style>\n",
       "<table border=\"1\" class=\"dataframe\">\n",
       "  <thead>\n",
       "    <tr style=\"text-align: right;\">\n",
       "      <th></th>\n",
       "      <th>timestamp</th>\n",
       "      <th>full_text</th>\n",
       "      <th>user.screen_name</th>\n",
       "      <th>period</th>\n",
       "      <th>week_number</th>\n",
       "      <th>crisis</th>\n",
       "    </tr>\n",
       "  </thead>\n",
       "  <tbody>\n",
       "    <tr>\n",
       "      <th>0</th>\n",
       "      <td>2019-12-01 13:02:51</td>\n",
       "      <td>The Governor doesn’t care, but that doesn’t me...</td>\n",
       "      <td>SunriseMvmtRVA</td>\n",
       "      <td>2019-12-01/2019-12-07</td>\n",
       "      <td>1</td>\n",
       "      <td>0</td>\n",
       "    </tr>\n",
       "    <tr>\n",
       "      <th>1</th>\n",
       "      <td>2019-12-03 04:53:29</td>\n",
       "      <td>👇 Hey @OregonDOT @oregonmetro @OregonGovBrown ...</td>\n",
       "      <td>SunrisePDX</td>\n",
       "      <td>2019-12-01/2019-12-07</td>\n",
       "      <td>1</td>\n",
       "      <td>0</td>\n",
       "    </tr>\n",
       "    <tr>\n",
       "      <th>2</th>\n",
       "      <td>2019-12-03 04:52:39</td>\n",
       "      <td>RT @SallyAnn_12: Every land use decision is a ...</td>\n",
       "      <td>SunrisePDX</td>\n",
       "      <td>2019-12-01/2019-12-07</td>\n",
       "      <td>1</td>\n",
       "      <td>0</td>\n",
       "    </tr>\n",
       "    <tr>\n",
       "      <th>3</th>\n",
       "      <td>2019-12-03 04:52:35</td>\n",
       "      <td>RT @BuildSoil: Remember being thankful is noth...</td>\n",
       "      <td>SunrisePDX</td>\n",
       "      <td>2019-12-01/2019-12-07</td>\n",
       "      <td>1</td>\n",
       "      <td>0</td>\n",
       "    </tr>\n",
       "    <tr>\n",
       "      <th>4</th>\n",
       "      <td>2019-12-03 04:52:27</td>\n",
       "      <td>RT @mastmeghan: Honestly, it is bananas to liv...</td>\n",
       "      <td>SunrisePDX</td>\n",
       "      <td>2019-12-01/2019-12-07</td>\n",
       "      <td>1</td>\n",
       "      <td>0</td>\n",
       "    </tr>\n",
       "    <tr>\n",
       "      <th>...</th>\n",
       "      <td>...</td>\n",
       "      <td>...</td>\n",
       "      <td>...</td>\n",
       "      <td>...</td>\n",
       "      <td>...</td>\n",
       "      <td>...</td>\n",
       "    </tr>\n",
       "    <tr>\n",
       "      <th>24333</th>\n",
       "      <td>2020-05-30 04:23:33</td>\n",
       "      <td>RT @alicesperi: George Floyd’s death is an urg...</td>\n",
       "      <td>SunriseMvmtLA</td>\n",
       "      <td>2020-05-24/2020-05-30</td>\n",
       "      <td>26</td>\n",
       "      <td>1</td>\n",
       "    </tr>\n",
       "    <tr>\n",
       "      <th>24334</th>\n",
       "      <td>2020-05-30 04:23:06</td>\n",
       "      <td>RT @cupidastwid: LA SHOW UP!!\\nTips: \\n- Avoid...</td>\n",
       "      <td>SunriseMvmtLA</td>\n",
       "      <td>2020-05-24/2020-05-30</td>\n",
       "      <td>26</td>\n",
       "      <td>1</td>\n",
       "    </tr>\n",
       "    <tr>\n",
       "      <th>24335</th>\n",
       "      <td>2020-05-30 04:22:57</td>\n",
       "      <td>RT @SpikeFriedman: If you are personally incre...</td>\n",
       "      <td>SunriseMvmtLA</td>\n",
       "      <td>2020-05-24/2020-05-30</td>\n",
       "      <td>26</td>\n",
       "      <td>1</td>\n",
       "    </tr>\n",
       "    <tr>\n",
       "      <th>24336</th>\n",
       "      <td>2020-05-30 20:52:41</td>\n",
       "      <td>Tonight, Sunrise NYC and Brooklyn Public Libra...</td>\n",
       "      <td>sunrisemvmtnyc</td>\n",
       "      <td>2020-05-24/2020-05-30</td>\n",
       "      <td>26</td>\n",
       "      <td>1</td>\n",
       "    </tr>\n",
       "    <tr>\n",
       "      <th>24337</th>\n",
       "      <td>2020-05-30 22:42:57</td>\n",
       "      <td>less than 1,000 away from goal, please sign an...</td>\n",
       "      <td>SunriseChico</td>\n",
       "      <td>2020-05-24/2020-05-30</td>\n",
       "      <td>26</td>\n",
       "      <td>1</td>\n",
       "    </tr>\n",
       "  </tbody>\n",
       "</table>\n",
       "<p>24338 rows × 6 columns</p>\n",
       "</div>"
      ],
      "text/plain": [
       "                timestamp                                          full_text  \\\n",
       "0     2019-12-01 13:02:51  The Governor doesn’t care, but that doesn’t me...   \n",
       "1     2019-12-03 04:53:29  👇 Hey @OregonDOT @oregonmetro @OregonGovBrown ...   \n",
       "2     2019-12-03 04:52:39  RT @SallyAnn_12: Every land use decision is a ...   \n",
       "3     2019-12-03 04:52:35  RT @BuildSoil: Remember being thankful is noth...   \n",
       "4     2019-12-03 04:52:27  RT @mastmeghan: Honestly, it is bananas to liv...   \n",
       "...                   ...                                                ...   \n",
       "24333 2020-05-30 04:23:33  RT @alicesperi: George Floyd’s death is an urg...   \n",
       "24334 2020-05-30 04:23:06  RT @cupidastwid: LA SHOW UP!!\\nTips: \\n- Avoid...   \n",
       "24335 2020-05-30 04:22:57  RT @SpikeFriedman: If you are personally incre...   \n",
       "24336 2020-05-30 20:52:41  Tonight, Sunrise NYC and Brooklyn Public Libra...   \n",
       "24337 2020-05-30 22:42:57  less than 1,000 away from goal, please sign an...   \n",
       "\n",
       "      user.screen_name                 period  week_number  crisis  \n",
       "0       SunriseMvmtRVA  2019-12-01/2019-12-07            1       0  \n",
       "1           SunrisePDX  2019-12-01/2019-12-07            1       0  \n",
       "2           SunrisePDX  2019-12-01/2019-12-07            1       0  \n",
       "3           SunrisePDX  2019-12-01/2019-12-07            1       0  \n",
       "4           SunrisePDX  2019-12-01/2019-12-07            1       0  \n",
       "...                ...                    ...          ...     ...  \n",
       "24333    SunriseMvmtLA  2020-05-24/2020-05-30           26       1  \n",
       "24334    SunriseMvmtLA  2020-05-24/2020-05-30           26       1  \n",
       "24335    SunriseMvmtLA  2020-05-24/2020-05-30           26       1  \n",
       "24336   sunrisemvmtnyc  2020-05-24/2020-05-30           26       1  \n",
       "24337     SunriseChico  2020-05-24/2020-05-30           26       1  \n",
       "\n",
       "[24338 rows x 6 columns]"
      ]
     },
     "execution_count": 7,
     "metadata": {},
     "output_type": "execute_result"
    }
   ],
   "source": [
    "df_time_preprocessed"
   ]
  },
  {
   "cell_type": "markdown",
   "metadata": {},
   "source": [
    "# 2. Textual preprocessing\n",
    "1. Normalization\n",
    "2. Removing symbols\n",
    "3. Removing lexical extras and tokenization\n",
    "4. Identify frequent bigrams    "
   ]
  },
  {
   "cell_type": "code",
   "execution_count": 8,
   "metadata": {},
   "outputs": [
    {
     "data": {
      "text/plain": [
       "['The Governor doesn’t care, but that doesn’t mean we can’t force him to repeal if we twist his hand hard enough. It won’t be an easy fight, and we will be fighting against quite a few Dems in the legislature, but we must win if we want to bring dignity and safety to workers https://t.co/zfT4NkSNt3',\n",
       " '👇 Hey @OregonDOT @oregonmetro @OregonGovBrown https://t.co/22bIHetmYL',\n",
       " 'RT @SallyAnn_12: Every land use decision is a decision for or against climate action. https://t.co/VUPVLJYTwM',\n",
       " 'RT @BuildSoil: Remember being thankful is nothing unless you act to give back and repair things.',\n",
       " \"RT @mastmeghan: Honestly, it is bananas to live in a world where articles like this come out and we're just expected to carry on as usual.…\",\n",
       " 'RT @nomorefreeways: “That’s where the change happens: When we get millions of people who are mobilized and feel that there’s hope and there…']"
      ]
     },
     "execution_count": 8,
     "metadata": {},
     "output_type": "execute_result"
    }
   ],
   "source": [
    "[tweet for tweet in df_time_preprocessed['full_text'].loc[:5]]"
   ]
  },
  {
   "cell_type": "markdown",
   "metadata": {},
   "source": [
    "## I. Normalization via Ekphrasis\n",
    "1. Replace functional things (url, email etc) by tags\n",
    "2. Spell correction\n",
    "3. Expand contractions\n",
    "4. Replace emoticons by text"
   ]
  },
  {
   "cell_type": "code",
   "execution_count": 9,
   "metadata": {},
   "outputs": [],
   "source": [
    "from ekphrasis.classes.preprocessor import TextPreProcessor\n",
    "from ekphrasis.dicts.emoticons import emoticons"
   ]
  },
  {
   "cell_type": "code",
   "execution_count": 10,
   "metadata": {},
   "outputs": [
    {
     "name": "stdout",
     "output_type": "stream",
     "text": [
      "Reading twitter - 1grams ...\n"
     ]
    },
    {
     "name": "stderr",
     "output_type": "stream",
     "text": [
      "C:\\Users\\Marika\\anaconda3\\envs\\tf22\\lib\\site-packages\\ekphrasis\\classes\\exmanager.py:14: FutureWarning: Possible nested set at position 42\n",
      "  regexes = {k.lower(): re.compile(self.expressions[k]) for k, v in\n"
     ]
    }
   ],
   "source": [
    "# Ekphraris preprocessing pipeline\n",
    "text_processor = TextPreProcessor(\n",
    "    # 1. Remove stuff\n",
    "    normalize=['url', 'email', 'percent', 'money', 'phone', 'user',\n",
    "        'time', 'date', 'number'],\n",
    "       \n",
    "    # 2. Spell correction and contraction expansion\n",
    "    corrector=\"twitter\", \n",
    "    \n",
    "    unpack_contractions=True,  # Unpack contractions (can't -> can not)\n",
    "    spell_correction=True,  # spell correction\n",
    "        \n",
    "    # 3. Replace emojis with textual expressions\n",
    "    dicts=[emoticons]\n",
    ")"
   ]
  },
  {
   "cell_type": "code",
   "execution_count": 11,
   "metadata": {},
   "outputs": [],
   "source": [
    "preprocessed_stage_one = [\"\".join(text_processor.pre_process_doc(tweet)) for tweet in df_time_preprocessed['full_text']]"
   ]
  },
  {
   "cell_type": "code",
   "execution_count": 12,
   "metadata": {},
   "outputs": [
    {
     "data": {
      "text/plain": [
       "['The Governor doesn’t care, but that doesn’t mean we can’t force him to repeal if we twist his hand hard enough. It won’t be an easy fight, and we will be fighting against quite a few Dems in the legislature, but we must win if we want to bring dignity and safety to workers <url>',\n",
       " '👇 Hey <user> <user> <user> <url>',\n",
       " 'RT <user> : Every land use decision is a decision for or against climate action. <url>',\n",
       " 'RT <user> : Remember being thankful is nothing unless you act to give back and repair things.',\n",
       " 'RT <user> : Honestly, it is bananas to live in a world where articles like this come out and we are just expected to carry on as usual.…']"
      ]
     },
     "execution_count": 12,
     "metadata": {},
     "output_type": "execute_result"
    }
   ],
   "source": [
    "[tweet for tweet in preprocessed_stage_one[:5]]"
   ]
  },
  {
   "cell_type": "markdown",
   "metadata": {},
   "source": [
    "## II. Removing symbols\n",
    "5. Removing punctuation (except functionally important ')\n",
    "6. Removing numbers"
   ]
  },
  {
   "cell_type": "code",
   "execution_count": 13,
   "metadata": {},
   "outputs": [],
   "source": [
    "import re"
   ]
  },
  {
   "cell_type": "code",
   "execution_count": 14,
   "metadata": {},
   "outputs": [],
   "source": [
    "def symbol_removal(tweet):\n",
    "    tweet = re.sub('[^a-zA-Z\\' ]', ' ', tweet) #numbers, punctuation\n",
    "    tweet = re.sub('\\\\s+', ' ', tweet) #extra whitespaces\n",
    "    tweet = re.sub('[ \\t]+$', '', tweet) #trailing whitespaces\n",
    "    return tweet"
   ]
  },
  {
   "cell_type": "code",
   "execution_count": 15,
   "metadata": {},
   "outputs": [],
   "source": [
    "preprocessed_stage_two = [symbol_removal(tweet) for tweet in preprocessed_stage_one]"
   ]
  },
  {
   "cell_type": "code",
   "execution_count": 16,
   "metadata": {},
   "outputs": [
    {
     "data": {
      "text/plain": [
       "['The Governor doesn t care but that doesn t mean we can t force him to repeal if we twist his hand hard enough It won t be an easy fight and we will be fighting against quite a few Dems in the legislature but we must win if we want to bring dignity and safety to workers url',\n",
       " ' Hey user user user url',\n",
       " 'RT user Every land use decision is a decision for or against climate action url',\n",
       " 'RT user Remember being thankful is nothing unless you act to give back and repair things',\n",
       " 'RT user Honestly it is bananas to live in a world where articles like this come out and we are just expected to carry on as usual']"
      ]
     },
     "execution_count": 16,
     "metadata": {},
     "output_type": "execute_result"
    }
   ],
   "source": [
    "[tweet for tweet in preprocessed_stage_two[:5]]"
   ]
  },
  {
   "cell_type": "markdown",
   "metadata": {},
   "source": [
    "## III. Removing lexical extras and tokenization\n",
    "7. Remove stopwords\n",
    "8. Lemmatize\n",
    "9. Tokenize"
   ]
  },
  {
   "cell_type": "code",
   "execution_count": 17,
   "metadata": {},
   "outputs": [],
   "source": [
    "import spacy\n",
    "from spacy.lang.en.stop_words import STOP_WORDS\n",
    "# Load Spacy English module\n",
    "nlp = spacy.load('en_core_web_sm')"
   ]
  },
  {
   "cell_type": "code",
   "execution_count": 18,
   "metadata": {},
   "outputs": [],
   "source": [
    "remove_from_stopwords = ['just', 'serious', 'side', 'show', 'keep', 'now', 'never','all']\n",
    "for word in remove_from_stopwords:\n",
    "    STOP_WORDS.remove(word)"
   ]
  },
  {
   "cell_type": "code",
   "execution_count": 19,
   "metadata": {},
   "outputs": [],
   "source": [
    "add_to_stopwords = ['url', 'email', 'percent', 'money', 'phone', 'user',\n",
    "        'time', 'date', 'number', '-pron-', '-PRON-','rt']\n",
    "for word in add_to_stopwords:\n",
    "    STOP_WORDS.add(word)"
   ]
  },
  {
   "cell_type": "code",
   "execution_count": 20,
   "metadata": {},
   "outputs": [],
   "source": [
    "STOP_WORDS.add('-PRON-')"
   ]
  },
  {
   "cell_type": "code",
   "execution_count": 21,
   "metadata": {},
   "outputs": [],
   "source": [
    "def remove_lexical_extras(tweet):\n",
    "    tweet = tweet.lower()\n",
    "    nlp_text = nlp(tweet)\n",
    "    lemmas = [token.lemma_ for token in nlp_text if token.lemma_ not in STOP_WORDS]\n",
    "    return(lemmas)"
   ]
  },
  {
   "cell_type": "code",
   "execution_count": 22,
   "metadata": {},
   "outputs": [],
   "source": [
    "preprocessed_stage_three = [remove_lexical_extras(tweet) for tweet in preprocessed_stage_two]"
   ]
  },
  {
   "cell_type": "code",
   "execution_count": 23,
   "metadata": {},
   "outputs": [
    {
     "data": {
      "text/plain": [
       "[['governor',\n",
       "  'doesn',\n",
       "  't',\n",
       "  'care',\n",
       "  'doesn',\n",
       "  't',\n",
       "  'mean',\n",
       "  't',\n",
       "  'force',\n",
       "  'repeal',\n",
       "  'twist',\n",
       "  'hand',\n",
       "  'hard',\n",
       "  'win',\n",
       "  't',\n",
       "  'easy',\n",
       "  'fight',\n",
       "  'fight',\n",
       "  'dem',\n",
       "  'legislature',\n",
       "  'win',\n",
       "  'want',\n",
       "  'bring',\n",
       "  'dignity',\n",
       "  'safety',\n",
       "  'worker'],\n",
       " [' ', 'hey'],\n",
       " ['land', 'use', 'decision', 'decision', 'climate', 'action'],\n",
       " ['remember', 'thankful', 'act', 'repair', 'thing'],\n",
       " ['honestly',\n",
       "  'banana',\n",
       "  'live',\n",
       "  'world',\n",
       "  'article',\n",
       "  'like',\n",
       "  'come',\n",
       "  'just',\n",
       "  'expect',\n",
       "  'carry',\n",
       "  'usual']]"
      ]
     },
     "execution_count": 23,
     "metadata": {},
     "output_type": "execute_result"
    }
   ],
   "source": [
    "[tweet for tweet in preprocessed_stage_three[:5]]"
   ]
  },
  {
   "cell_type": "markdown",
   "metadata": {},
   "source": [
    "## IV. Identify frequent bigrams\n",
    "https://radimrehurek.com/gensim/models/phrases.html"
   ]
  },
  {
   "cell_type": "code",
   "execution_count": 24,
   "metadata": {},
   "outputs": [],
   "source": [
    "from gensim.models import Phrases"
   ]
  },
  {
   "cell_type": "code",
   "execution_count": 25,
   "metadata": {},
   "outputs": [],
   "source": [
    "phrases = Phrases(preprocessed_stage_three, min_count=25, threshold = 15)"
   ]
  },
  {
   "cell_type": "code",
   "execution_count": 26,
   "metadata": {},
   "outputs": [],
   "source": [
    "preprocessed_stage_four = [phrases[tweet] for tweet in preprocessed_stage_three]"
   ]
  },
  {
   "cell_type": "code",
   "execution_count": 27,
   "metadata": {},
   "outputs": [
    {
     "data": {
      "text/plain": [
       "[['governor',\n",
       "  'doesn_t',\n",
       "  'care',\n",
       "  'doesn_t',\n",
       "  'mean',\n",
       "  't',\n",
       "  'force',\n",
       "  'repeal',\n",
       "  'twist',\n",
       "  'hand',\n",
       "  'hard',\n",
       "  'win',\n",
       "  't',\n",
       "  'easy',\n",
       "  'fight',\n",
       "  'fight',\n",
       "  'dem',\n",
       "  'legislature',\n",
       "  'win',\n",
       "  'want',\n",
       "  'bring',\n",
       "  'dignity',\n",
       "  'safety',\n",
       "  'worker'],\n",
       " [' ', 'hey'],\n",
       " ['land', 'use', 'decision', 'decision', 'climate', 'action'],\n",
       " ['remember', 'thankful', 'act', 'repair', 'thing'],\n",
       " ['honestly',\n",
       "  'banana',\n",
       "  'live',\n",
       "  'world',\n",
       "  'article',\n",
       "  'like',\n",
       "  'come',\n",
       "  'just',\n",
       "  'expect',\n",
       "  'carry',\n",
       "  'usual']]"
      ]
     },
     "execution_count": 27,
     "metadata": {},
     "output_type": "execute_result"
    }
   ],
   "source": [
    "[tweet for tweet in preprocessed_stage_four[:5]]"
   ]
  },
  {
   "cell_type": "markdown",
   "metadata": {},
   "source": [
    "## Add preprocessed text to the dataframe\n",
    "And save df for further use"
   ]
  },
  {
   "cell_type": "code",
   "execution_count": 28,
   "metadata": {},
   "outputs": [],
   "source": [
    "df_preprocessed = df_time_preprocessed.copy()\n",
    "df_preprocessed['text_preprocessed'] = preprocessed_stage_four"
   ]
  },
  {
   "cell_type": "code",
   "execution_count": 29,
   "metadata": {},
   "outputs": [
    {
     "data": {
      "text/html": [
       "<div>\n",
       "<style scoped>\n",
       "    .dataframe tbody tr th:only-of-type {\n",
       "        vertical-align: middle;\n",
       "    }\n",
       "\n",
       "    .dataframe tbody tr th {\n",
       "        vertical-align: top;\n",
       "    }\n",
       "\n",
       "    .dataframe thead th {\n",
       "        text-align: right;\n",
       "    }\n",
       "</style>\n",
       "<table border=\"1\" class=\"dataframe\">\n",
       "  <thead>\n",
       "    <tr style=\"text-align: right;\">\n",
       "      <th></th>\n",
       "      <th>timestamp</th>\n",
       "      <th>full_text</th>\n",
       "      <th>user.screen_name</th>\n",
       "      <th>period</th>\n",
       "      <th>week_number</th>\n",
       "      <th>crisis</th>\n",
       "      <th>text_preprocessed</th>\n",
       "    </tr>\n",
       "  </thead>\n",
       "  <tbody>\n",
       "    <tr>\n",
       "      <th>0</th>\n",
       "      <td>2019-12-01 13:02:51</td>\n",
       "      <td>The Governor doesn’t care, but that doesn’t me...</td>\n",
       "      <td>SunriseMvmtRVA</td>\n",
       "      <td>2019-12-01/2019-12-07</td>\n",
       "      <td>1</td>\n",
       "      <td>0</td>\n",
       "      <td>[governor, doesn_t, care, doesn_t, mean, t, fo...</td>\n",
       "    </tr>\n",
       "    <tr>\n",
       "      <th>1</th>\n",
       "      <td>2019-12-03 04:53:29</td>\n",
       "      <td>👇 Hey @OregonDOT @oregonmetro @OregonGovBrown ...</td>\n",
       "      <td>SunrisePDX</td>\n",
       "      <td>2019-12-01/2019-12-07</td>\n",
       "      <td>1</td>\n",
       "      <td>0</td>\n",
       "      <td>[ , hey]</td>\n",
       "    </tr>\n",
       "    <tr>\n",
       "      <th>2</th>\n",
       "      <td>2019-12-03 04:52:39</td>\n",
       "      <td>RT @SallyAnn_12: Every land use decision is a ...</td>\n",
       "      <td>SunrisePDX</td>\n",
       "      <td>2019-12-01/2019-12-07</td>\n",
       "      <td>1</td>\n",
       "      <td>0</td>\n",
       "      <td>[land, use, decision, decision, climate, action]</td>\n",
       "    </tr>\n",
       "    <tr>\n",
       "      <th>3</th>\n",
       "      <td>2019-12-03 04:52:35</td>\n",
       "      <td>RT @BuildSoil: Remember being thankful is noth...</td>\n",
       "      <td>SunrisePDX</td>\n",
       "      <td>2019-12-01/2019-12-07</td>\n",
       "      <td>1</td>\n",
       "      <td>0</td>\n",
       "      <td>[remember, thankful, act, repair, thing]</td>\n",
       "    </tr>\n",
       "    <tr>\n",
       "      <th>4</th>\n",
       "      <td>2019-12-03 04:52:27</td>\n",
       "      <td>RT @mastmeghan: Honestly, it is bananas to liv...</td>\n",
       "      <td>SunrisePDX</td>\n",
       "      <td>2019-12-01/2019-12-07</td>\n",
       "      <td>1</td>\n",
       "      <td>0</td>\n",
       "      <td>[honestly, banana, live, world, article, like,...</td>\n",
       "    </tr>\n",
       "  </tbody>\n",
       "</table>\n",
       "</div>"
      ],
      "text/plain": [
       "            timestamp                                          full_text  \\\n",
       "0 2019-12-01 13:02:51  The Governor doesn’t care, but that doesn’t me...   \n",
       "1 2019-12-03 04:53:29  👇 Hey @OregonDOT @oregonmetro @OregonGovBrown ...   \n",
       "2 2019-12-03 04:52:39  RT @SallyAnn_12: Every land use decision is a ...   \n",
       "3 2019-12-03 04:52:35  RT @BuildSoil: Remember being thankful is noth...   \n",
       "4 2019-12-03 04:52:27  RT @mastmeghan: Honestly, it is bananas to liv...   \n",
       "\n",
       "  user.screen_name                 period  week_number  crisis  \\\n",
       "0   SunriseMvmtRVA  2019-12-01/2019-12-07            1       0   \n",
       "1       SunrisePDX  2019-12-01/2019-12-07            1       0   \n",
       "2       SunrisePDX  2019-12-01/2019-12-07            1       0   \n",
       "3       SunrisePDX  2019-12-01/2019-12-07            1       0   \n",
       "4       SunrisePDX  2019-12-01/2019-12-07            1       0   \n",
       "\n",
       "                                   text_preprocessed  \n",
       "0  [governor, doesn_t, care, doesn_t, mean, t, fo...  \n",
       "1                                           [ , hey]  \n",
       "2   [land, use, decision, decision, climate, action]  \n",
       "3           [remember, thankful, act, repair, thing]  \n",
       "4  [honestly, banana, live, world, article, like,...  "
      ]
     },
     "execution_count": 29,
     "metadata": {},
     "output_type": "execute_result"
    }
   ],
   "source": [
    "df_preprocessed.head()"
   ]
  },
  {
   "cell_type": "code",
   "execution_count": 30,
   "metadata": {},
   "outputs": [],
   "source": [
    "df_preprocessed.to_pickle(f'data/{movement}_preprocessed')"
   ]
  }
 ],
 "metadata": {
  "kernelspec": {
   "display_name": "Python 3",
   "language": "python",
   "name": "python3"
  },
  "language_info": {
   "codemirror_mode": {
    "name": "ipython",
    "version": 3
   },
   "file_extension": ".py",
   "mimetype": "text/x-python",
   "name": "python",
   "nbconvert_exporter": "python",
   "pygments_lexer": "ipython3",
   "version": "3.7.7"
  }
 },
 "nbformat": 4,
 "nbformat_minor": 4
}
