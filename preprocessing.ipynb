{
 "cells": [
  {
   "cell_type": "markdown",
   "metadata": {},
   "source": [
    "Preprocessing code - on DemSoc"
   ]
  },
  {
   "cell_type": "code",
   "execution_count": 1,
   "metadata": {},
   "outputs": [],
   "source": [
    "import pickle\n",
    "import pandas as pd\n",
    "import time\n",
    "import datetime"
   ]
  },
  {
   "cell_type": "code",
   "execution_count": 53,
   "metadata": {},
   "outputs": [],
   "source": [
    "movement = 'demsoc'"
   ]
  },
  {
   "cell_type": "markdown",
   "metadata": {},
   "source": [
    "# 1. Time preprocessing: Order by weeks"
   ]
  },
  {
   "cell_type": "code",
   "execution_count": 44,
   "metadata": {},
   "outputs": [],
   "source": [
    "with open(f'../Twitter data/Final data/{movement}_tweets', 'rb') as file:\n",
    "    df = pickle.load(file)    "
   ]
  },
  {
   "cell_type": "code",
   "execution_count": 46,
   "metadata": {},
   "outputs": [
    {
     "data": {
      "text/html": [
       "<div>\n",
       "<style scoped>\n",
       "    .dataframe tbody tr th:only-of-type {\n",
       "        vertical-align: middle;\n",
       "    }\n",
       "\n",
       "    .dataframe tbody tr th {\n",
       "        vertical-align: top;\n",
       "    }\n",
       "\n",
       "    .dataframe thead th {\n",
       "        text-align: right;\n",
       "    }\n",
       "</style>\n",
       "<table border=\"1\" class=\"dataframe\">\n",
       "  <thead>\n",
       "    <tr style=\"text-align: right;\">\n",
       "      <th></th>\n",
       "      <th>created_at</th>\n",
       "      <th>id</th>\n",
       "      <th>full_text</th>\n",
       "      <th>retweet_count</th>\n",
       "      <th>favorite_count</th>\n",
       "      <th>favorited</th>\n",
       "      <th>retweeted</th>\n",
       "      <th>possibly_sensitive</th>\n",
       "      <th>lang</th>\n",
       "      <th>user.id</th>\n",
       "      <th>user.id_str</th>\n",
       "      <th>user.name</th>\n",
       "      <th>user.screen_name</th>\n",
       "      <th>user.location</th>\n",
       "      <th>user.description</th>\n",
       "      <th>user.url</th>\n",
       "      <th>user.followers_count</th>\n",
       "      <th>user.friends_count</th>\n",
       "      <th>user.created_at</th>\n",
       "    </tr>\n",
       "  </thead>\n",
       "  <tbody>\n",
       "    <tr>\n",
       "      <th>0</th>\n",
       "      <td>Wed Feb 26 18:58:55 +0000 2020</td>\n",
       "      <td>1232741852664811520</td>\n",
       "      <td>#NotAgainSU.\\n\\nhttps://t.co/3kqtUazEgf\\n\\nIn ...</td>\n",
       "      <td>0</td>\n",
       "      <td>6</td>\n",
       "      <td>False</td>\n",
       "      <td>False</td>\n",
       "      <td>False</td>\n",
       "      <td>fi</td>\n",
       "      <td>864648993137098754</td>\n",
       "      <td>864648993137098754</td>\n",
       "      <td>New York City YDSA 🌹</td>\n",
       "      <td>nycYDSA</td>\n",
       "      <td>New York, NY</td>\n",
       "      <td>Youth of NYC – Unite! ✊ Sign up for our emails...</td>\n",
       "      <td>https://t.co/JegJu7EXYF</td>\n",
       "      <td>2056</td>\n",
       "      <td>771</td>\n",
       "      <td>Wed May 17 01:09:19 +0000 2017</td>\n",
       "    </tr>\n",
       "    <tr>\n",
       "      <th>1</th>\n",
       "      <td>Wed Feb 26 18:58:40 +0000 2020</td>\n",
       "      <td>1232741788999438338</td>\n",
       "      <td>l. We stand in full support for all of the dem...</td>\n",
       "      <td>0</td>\n",
       "      <td>7</td>\n",
       "      <td>False</td>\n",
       "      <td>False</td>\n",
       "      <td>NaN</td>\n",
       "      <td>en</td>\n",
       "      <td>864648993137098754</td>\n",
       "      <td>864648993137098754</td>\n",
       "      <td>New York City YDSA 🌹</td>\n",
       "      <td>nycYDSA</td>\n",
       "      <td>New York, NY</td>\n",
       "      <td>Youth of NYC – Unite! ✊ Sign up for our emails...</td>\n",
       "      <td>https://t.co/JegJu7EXYF</td>\n",
       "      <td>2056</td>\n",
       "      <td>771</td>\n",
       "      <td>Wed May 17 01:09:19 +0000 2017</td>\n",
       "    </tr>\n",
       "    <tr>\n",
       "      <th>2</th>\n",
       "      <td>Wed Feb 26 18:57:47 +0000 2020</td>\n",
       "      <td>1232741569222135809</td>\n",
       "      <td>This is a necessary response to the 29+ hate c...</td>\n",
       "      <td>2</td>\n",
       "      <td>5</td>\n",
       "      <td>False</td>\n",
       "      <td>False</td>\n",
       "      <td>NaN</td>\n",
       "      <td>en</td>\n",
       "      <td>864648993137098754</td>\n",
       "      <td>864648993137098754</td>\n",
       "      <td>New York City YDSA 🌹</td>\n",
       "      <td>nycYDSA</td>\n",
       "      <td>New York, NY</td>\n",
       "      <td>Youth of NYC – Unite! ✊ Sign up for our emails...</td>\n",
       "      <td>https://t.co/JegJu7EXYF</td>\n",
       "      <td>2056</td>\n",
       "      <td>771</td>\n",
       "      <td>Wed May 17 01:09:19 +0000 2017</td>\n",
       "    </tr>\n",
       "    <tr>\n",
       "      <th>3</th>\n",
       "      <td>Wed Feb 26 18:53:15 +0000 2020</td>\n",
       "      <td>1232740425271824384</td>\n",
       "      <td>The New York City Young Democratic-Socialists ...</td>\n",
       "      <td>10</td>\n",
       "      <td>22</td>\n",
       "      <td>False</td>\n",
       "      <td>False</td>\n",
       "      <td>NaN</td>\n",
       "      <td>en</td>\n",
       "      <td>864648993137098754</td>\n",
       "      <td>864648993137098754</td>\n",
       "      <td>New York City YDSA 🌹</td>\n",
       "      <td>nycYDSA</td>\n",
       "      <td>New York, NY</td>\n",
       "      <td>Youth of NYC – Unite! ✊ Sign up for our emails...</td>\n",
       "      <td>https://t.co/JegJu7EXYF</td>\n",
       "      <td>2056</td>\n",
       "      <td>771</td>\n",
       "      <td>Wed May 17 01:09:19 +0000 2017</td>\n",
       "    </tr>\n",
       "    <tr>\n",
       "      <th>4</th>\n",
       "      <td>Tue Dec 03 18:26:46 +0000 2019</td>\n",
       "      <td>1201930791506366467</td>\n",
       "      <td>Happy to announce that legendary battle rapper...</td>\n",
       "      <td>1</td>\n",
       "      <td>6</td>\n",
       "      <td>False</td>\n",
       "      <td>False</td>\n",
       "      <td>False</td>\n",
       "      <td>en</td>\n",
       "      <td>864648993137098754</td>\n",
       "      <td>864648993137098754</td>\n",
       "      <td>New York City YDSA 🌹</td>\n",
       "      <td>nycYDSA</td>\n",
       "      <td>New York, NY</td>\n",
       "      <td>Youth of NYC – Unite! ✊ Sign up for our emails...</td>\n",
       "      <td>https://t.co/JegJu7EXYF</td>\n",
       "      <td>2056</td>\n",
       "      <td>771</td>\n",
       "      <td>Wed May 17 01:09:19 +0000 2017</td>\n",
       "    </tr>\n",
       "  </tbody>\n",
       "</table>\n",
       "</div>"
      ],
      "text/plain": [
       "                       created_at                   id  \\\n",
       "0  Wed Feb 26 18:58:55 +0000 2020  1232741852664811520   \n",
       "1  Wed Feb 26 18:58:40 +0000 2020  1232741788999438338   \n",
       "2  Wed Feb 26 18:57:47 +0000 2020  1232741569222135809   \n",
       "3  Wed Feb 26 18:53:15 +0000 2020  1232740425271824384   \n",
       "4  Tue Dec 03 18:26:46 +0000 2019  1201930791506366467   \n",
       "\n",
       "                                           full_text  retweet_count  \\\n",
       "0  #NotAgainSU.\\n\\nhttps://t.co/3kqtUazEgf\\n\\nIn ...              0   \n",
       "1  l. We stand in full support for all of the dem...              0   \n",
       "2  This is a necessary response to the 29+ hate c...              2   \n",
       "3  The New York City Young Democratic-Socialists ...             10   \n",
       "4  Happy to announce that legendary battle rapper...              1   \n",
       "\n",
       "   favorite_count  favorited  retweeted possibly_sensitive lang  \\\n",
       "0               6      False      False              False   fi   \n",
       "1               7      False      False                NaN   en   \n",
       "2               5      False      False                NaN   en   \n",
       "3              22      False      False                NaN   en   \n",
       "4               6      False      False              False   en   \n",
       "\n",
       "              user.id         user.id_str             user.name  \\\n",
       "0  864648993137098754  864648993137098754  New York City YDSA 🌹   \n",
       "1  864648993137098754  864648993137098754  New York City YDSA 🌹   \n",
       "2  864648993137098754  864648993137098754  New York City YDSA 🌹   \n",
       "3  864648993137098754  864648993137098754  New York City YDSA 🌹   \n",
       "4  864648993137098754  864648993137098754  New York City YDSA 🌹   \n",
       "\n",
       "  user.screen_name user.location  \\\n",
       "0          nycYDSA  New York, NY   \n",
       "1          nycYDSA  New York, NY   \n",
       "2          nycYDSA  New York, NY   \n",
       "3          nycYDSA  New York, NY   \n",
       "4          nycYDSA  New York, NY   \n",
       "\n",
       "                                    user.description                 user.url  \\\n",
       "0  Youth of NYC – Unite! ✊ Sign up for our emails...  https://t.co/JegJu7EXYF   \n",
       "1  Youth of NYC – Unite! ✊ Sign up for our emails...  https://t.co/JegJu7EXYF   \n",
       "2  Youth of NYC – Unite! ✊ Sign up for our emails...  https://t.co/JegJu7EXYF   \n",
       "3  Youth of NYC – Unite! ✊ Sign up for our emails...  https://t.co/JegJu7EXYF   \n",
       "4  Youth of NYC – Unite! ✊ Sign up for our emails...  https://t.co/JegJu7EXYF   \n",
       "\n",
       "   user.followers_count  user.friends_count                 user.created_at  \n",
       "0                  2056                 771  Wed May 17 01:09:19 +0000 2017  \n",
       "1                  2056                 771  Wed May 17 01:09:19 +0000 2017  \n",
       "2                  2056                 771  Wed May 17 01:09:19 +0000 2017  \n",
       "3                  2056                 771  Wed May 17 01:09:19 +0000 2017  \n",
       "4                  2056                 771  Wed May 17 01:09:19 +0000 2017  "
      ]
     },
     "execution_count": 46,
     "metadata": {},
     "output_type": "execute_result"
    }
   ],
   "source": [
    "df.head()"
   ]
  },
  {
   "cell_type": "code",
   "execution_count": 48,
   "metadata": {},
   "outputs": [],
   "source": [
    "def time_preprocessing(df, week_last_day, crisis_starting_week):\n",
    "    \"\"\"Takes raw data, adds timestamp, week number and crisis dummy variable\n",
    "    Week last day - 'W-SAT'for USA; 'W-WED' for UK\n",
    "    Crisis first week - 8 for US, 10 for UK\"\"\"\n",
    "    # Extract timestamp from the textual \"created_at\" column\n",
    "    df['timestamp'] = pd.to_datetime(df['created_at'], format='%a %b %d %H:%M:%S +0000 %Y')\n",
    "    # Remove data not needed right now\n",
    "    df = df[['timestamp', 'full_text', 'user.screen_name']]\n",
    "    # Remove tweets not included in the period taken for research (01.11.2019-30.06.2020)\n",
    "    df = df.loc[(df['timestamp'] > '2019-12-01') & (df['timestamp'] < '2020-05-31')].reset_index(drop=True)\n",
    "    # Add period\n",
    "    df['period'] = df['timestamp'].dt.to_period(week_last_day)\n",
    "    df = df.sort_values('period').reset_index(drop=True)\n",
    "    # Add case week number\n",
    "    i = 1\n",
    "    df['week_number'] = 0\n",
    "    for group_index, group in df.groupby('period'):\n",
    "        df.loc[df['period']==group_index, 'week_number'] = i\n",
    "        i += 1\n",
    "    # Add crisis parameter\n",
    "    df['crisis'] = 1\n",
    "    df.loc[df['week_number']<crisis_starting_week, 'crisis'] = 0\n",
    "    \n",
    "    return df"
   ]
  },
  {
   "cell_type": "code",
   "execution_count": 49,
   "metadata": {},
   "outputs": [],
   "source": [
    "df_time_preprocessed = time_preprocessing(df, 'W-SAT', 8)"
   ]
  },
  {
   "cell_type": "code",
   "execution_count": 52,
   "metadata": {},
   "outputs": [
    {
     "data": {
      "text/html": [
       "<div>\n",
       "<style scoped>\n",
       "    .dataframe tbody tr th:only-of-type {\n",
       "        vertical-align: middle;\n",
       "    }\n",
       "\n",
       "    .dataframe tbody tr th {\n",
       "        vertical-align: top;\n",
       "    }\n",
       "\n",
       "    .dataframe thead th {\n",
       "        text-align: right;\n",
       "    }\n",
       "</style>\n",
       "<table border=\"1\" class=\"dataframe\">\n",
       "  <thead>\n",
       "    <tr style=\"text-align: right;\">\n",
       "      <th></th>\n",
       "      <th>timestamp</th>\n",
       "      <th>full_text</th>\n",
       "      <th>user.screen_name</th>\n",
       "      <th>period</th>\n",
       "      <th>week_number</th>\n",
       "      <th>crisis</th>\n",
       "    </tr>\n",
       "  </thead>\n",
       "  <tbody>\n",
       "    <tr>\n",
       "      <th>0</th>\n",
       "      <td>2019-12-02 20:14:03</td>\n",
       "      <td>Many of these with genocidal repercussions whi...</td>\n",
       "      <td>unc_ydsa</td>\n",
       "      <td>2019-12-01/2019-12-07</td>\n",
       "      <td>1</td>\n",
       "      <td>0</td>\n",
       "    </tr>\n",
       "    <tr>\n",
       "      <th>1</th>\n",
       "      <td>2019-12-02 19:35:32</td>\n",
       "      <td>RT @aidachavez: is this your queen https://t.c...</td>\n",
       "      <td>NorthNJDSA</td>\n",
       "      <td>2019-12-01/2019-12-07</td>\n",
       "      <td>1</td>\n",
       "      <td>0</td>\n",
       "    </tr>\n",
       "    <tr>\n",
       "      <th>2</th>\n",
       "      <td>2019-12-02 19:37:54</td>\n",
       "      <td>dont know who needs to hear this, but rich peo...</td>\n",
       "      <td>NorthNJDSA</td>\n",
       "      <td>2019-12-01/2019-12-07</td>\n",
       "      <td>1</td>\n",
       "      <td>0</td>\n",
       "    </tr>\n",
       "    <tr>\n",
       "      <th>3</th>\n",
       "      <td>2019-12-02 19:39:21</td>\n",
       "      <td>baby yoda (handshake) all our comrades https:/...</td>\n",
       "      <td>NorthNJDSA</td>\n",
       "      <td>2019-12-01/2019-12-07</td>\n",
       "      <td>1</td>\n",
       "      <td>0</td>\n",
       "    </tr>\n",
       "    <tr>\n",
       "      <th>4</th>\n",
       "      <td>2019-12-02 19:39:49</td>\n",
       "      <td>RT @AshAgony: \"For the second time this week, ...</td>\n",
       "      <td>NorthNJDSA</td>\n",
       "      <td>2019-12-01/2019-12-07</td>\n",
       "      <td>1</td>\n",
       "      <td>0</td>\n",
       "    </tr>\n",
       "    <tr>\n",
       "      <th>...</th>\n",
       "      <td>...</td>\n",
       "      <td>...</td>\n",
       "      <td>...</td>\n",
       "      <td>...</td>\n",
       "      <td>...</td>\n",
       "      <td>...</td>\n",
       "    </tr>\n",
       "    <tr>\n",
       "      <th>81444</th>\n",
       "      <td>2020-05-28 13:13:52</td>\n",
       "      <td>RT @DemSocialists: There is no justification f...</td>\n",
       "      <td>AuburnDSA</td>\n",
       "      <td>2020-05-24/2020-05-30</td>\n",
       "      <td>26</td>\n",
       "      <td>1</td>\n",
       "    </tr>\n",
       "    <tr>\n",
       "      <th>81445</th>\n",
       "      <td>2020-05-28 13:13:47</td>\n",
       "      <td>RT @DemSocialists: From our National Political...</td>\n",
       "      <td>AuburnDSA</td>\n",
       "      <td>2020-05-24/2020-05-30</td>\n",
       "      <td>26</td>\n",
       "      <td>1</td>\n",
       "    </tr>\n",
       "    <tr>\n",
       "      <th>81446</th>\n",
       "      <td>2020-05-30 14:52:35</td>\n",
       "      <td>RT @JonahFurman: This is the absolute best of ...</td>\n",
       "      <td>NYCDSA_Climate</td>\n",
       "      <td>2020-05-24/2020-05-30</td>\n",
       "      <td>26</td>\n",
       "      <td>1</td>\n",
       "    </tr>\n",
       "    <tr>\n",
       "      <th>81447</th>\n",
       "      <td>2020-05-28 16:12:36</td>\n",
       "      <td>RT @isaiah_kb: hello did you know using tear g...</td>\n",
       "      <td>AnchorageDSA</td>\n",
       "      <td>2020-05-24/2020-05-30</td>\n",
       "      <td>26</td>\n",
       "      <td>1</td>\n",
       "    </tr>\n",
       "    <tr>\n",
       "      <th>81448</th>\n",
       "      <td>2020-05-25 12:01:39</td>\n",
       "      <td>RT @tomaskenn: 38 million+ people have filed f...</td>\n",
       "      <td>MiamiDSA</td>\n",
       "      <td>2020-05-24/2020-05-30</td>\n",
       "      <td>26</td>\n",
       "      <td>1</td>\n",
       "    </tr>\n",
       "  </tbody>\n",
       "</table>\n",
       "<p>81449 rows × 6 columns</p>\n",
       "</div>"
      ],
      "text/plain": [
       "                timestamp                                          full_text  \\\n",
       "0     2019-12-02 20:14:03  Many of these with genocidal repercussions whi...   \n",
       "1     2019-12-02 19:35:32  RT @aidachavez: is this your queen https://t.c...   \n",
       "2     2019-12-02 19:37:54  dont know who needs to hear this, but rich peo...   \n",
       "3     2019-12-02 19:39:21  baby yoda (handshake) all our comrades https:/...   \n",
       "4     2019-12-02 19:39:49  RT @AshAgony: \"For the second time this week, ...   \n",
       "...                   ...                                                ...   \n",
       "81444 2020-05-28 13:13:52  RT @DemSocialists: There is no justification f...   \n",
       "81445 2020-05-28 13:13:47  RT @DemSocialists: From our National Political...   \n",
       "81446 2020-05-30 14:52:35  RT @JonahFurman: This is the absolute best of ...   \n",
       "81447 2020-05-28 16:12:36  RT @isaiah_kb: hello did you know using tear g...   \n",
       "81448 2020-05-25 12:01:39  RT @tomaskenn: 38 million+ people have filed f...   \n",
       "\n",
       "      user.screen_name                 period  week_number  crisis  \n",
       "0             unc_ydsa  2019-12-01/2019-12-07            1       0  \n",
       "1           NorthNJDSA  2019-12-01/2019-12-07            1       0  \n",
       "2           NorthNJDSA  2019-12-01/2019-12-07            1       0  \n",
       "3           NorthNJDSA  2019-12-01/2019-12-07            1       0  \n",
       "4           NorthNJDSA  2019-12-01/2019-12-07            1       0  \n",
       "...                ...                    ...          ...     ...  \n",
       "81444        AuburnDSA  2020-05-24/2020-05-30           26       1  \n",
       "81445        AuburnDSA  2020-05-24/2020-05-30           26       1  \n",
       "81446   NYCDSA_Climate  2020-05-24/2020-05-30           26       1  \n",
       "81447     AnchorageDSA  2020-05-24/2020-05-30           26       1  \n",
       "81448         MiamiDSA  2020-05-24/2020-05-30           26       1  \n",
       "\n",
       "[81449 rows x 6 columns]"
      ]
     },
     "execution_count": 52,
     "metadata": {},
     "output_type": "execute_result"
    }
   ],
   "source": [
    "df_time_preprocessed"
   ]
  },
  {
   "cell_type": "markdown",
   "metadata": {},
   "source": [
    "# 2. Textual preprocessing\n",
    "- lowercase\n",
    "- 1,3 Remove emojis, user-mentions, links\n",
    "- 2 Spell correction\n",
    "- 2 Expand contractions - exphrasis doesnt really work\n",
    "- Remove punctuation\n",
    "- (optional) Identify most frequent bigrams\n",
    "- Remove stopwords bro\n",
    "\n",
    "- last thing: nice tokenizer (keep hashtag together), but generally space-based"
   ]
  },
  {
   "cell_type": "code",
   "execution_count": 59,
   "metadata": {},
   "outputs": [],
   "source": [
    "from ekphrasis.classes.preprocessor import TextPreProcessor\n",
    "from ekphrasis.dicts.emoticons import emoticons"
   ]
  },
  {
   "cell_type": "code",
   "execution_count": 60,
   "metadata": {},
   "outputs": [
    {
     "name": "stdout",
     "output_type": "stream",
     "text": [
      "Reading twitter - 1grams ...\n"
     ]
    },
    {
     "name": "stderr",
     "output_type": "stream",
     "text": [
      "C:\\Users\\Marika\\anaconda3\\envs\\tf22\\lib\\site-packages\\ekphrasis\\classes\\exmanager.py:14: FutureWarning: Possible nested set at position 42\n",
      "  regexes = {k.lower(): re.compile(self.expressions[k]) for k, v in\n"
     ]
    }
   ],
   "source": [
    "# Ekphraris preprocessing pipeline\n",
    "text_processor = TextPreProcessor(\n",
    "    # 1. Remove stuff\n",
    "    normalize=['url', 'email', 'percent', 'money', 'phone', 'user',\n",
    "        'time', 'date', 'number'],\n",
    "       \n",
    "    # 2. Spell correction and contraction expansion\n",
    "    corrector=\"twitter\", \n",
    "    \n",
    "    unpack_contractions=True,  # Unpack contractions (can't -> can not)\n",
    "    spell_correction=True,  # spell correction\n",
    "        \n",
    "    # 3. Replace emojis with textual expressions\n",
    "    dicts=[emoticons]\n",
    ")"
   ]
  },
  {
   "cell_type": "code",
   "execution_count": 61,
   "metadata": {},
   "outputs": [
    {
     "data": {
      "text/plain": [
       "['Many of these with genocidal repercussions which nations still face today. Great video. https://t.co/d65auc365r',\n",
       " 'RT @aidachavez: is this your queen https://t.co/ju2SfJHIAT',\n",
       " 'dont know who needs to hear this, but rich people won\\'t magically start \"GETTING\" to go to school in droves if working class/people who dont want to be in massive debt/those in poverty get the chance to go for free. that\\'s literally not how life works',\n",
       " 'baby yoda (handshake) all our comrades https://t.co/5BFWxXjyj0',\n",
       " 'RT @AshAgony: \"For the second time this week, a thin blue line flag was spotted on NYPD property. The framed banner was seen hanging from t…',\n",
       " \"unless you've had the privilege of not having to think of any of these things. OR, say, being a rhodes scholar then going to harvard (yale? who cares) and trying to tell people how to live their lives\",\n",
       " 'RT @innocence: If you donate $10 or more to help us reach our goal to cover DNA testing expenses today, we’ll send you a sticker — and gift…',\n",
       " \"@rizzo_pubhist agree!!!! can't trust what our county will do honestly and we don't, have not, will not ever support the carceral state but with or without us, it's happening so hope mr. zurofsky can do his best\",\n",
       " 'RT @rizzo_pubhist: Important update on the very questionable investigation of the assault of two detainees by Essex County correctional off…',\n",
       " \"RT @YDSA_BC: .@bcheights endorsed BC's plan to develop the Webster Woods and destroy this conservation land.\\n\\nWe can't wait to read their c…\"]"
      ]
     },
     "execution_count": 61,
     "metadata": {},
     "output_type": "execute_result"
    }
   ],
   "source": [
    "test"
   ]
  },
  {
   "cell_type": "code",
   "execution_count": 64,
   "metadata": {},
   "outputs": [],
   "source": [
    "test_ekp = [\"\".join(text_processor.pre_process_doc(s)) for s in test]"
   ]
  },
  {
   "cell_type": "code",
   "execution_count": 65,
   "metadata": {},
   "outputs": [
    {
     "data": {
      "text/plain": [
       "['Many of these with genocidal repercussions which nations still face today. Great video. <url>',\n",
       " 'RT <user> : is this your queen <url>',\n",
       " 'dont know who needs to hear this, but rich people will not magically start \"GETTING\" to go to school in droves if working class/people who dont want to be in massive debt/those in poverty get the chance to go for free. that\\'s literally not how life works',\n",
       " 'baby yoda (handshake) all our comrades <url>',\n",
       " 'RT <user> : \"For the second time this week, a thin blue line flag was spotted on NYPD property. The framed banner was seen hanging from t…',\n",
       " 'unless you have had the privilege of not having to think of any of these things. OR, say, being a rhodes scholar then going to harvard (yale? who cares) and trying to tell people how to live their lives',\n",
       " 'RT <user> : If you donate <money> or more to help us reach our goal to cover DNA testing expenses today, we’ll send you a sticker — and gift…',\n",
       " \"<user> agree!!!! can not trust what our county will do honestly and we do not, have not, will not ever support the carceral state but with or without us, it's happening so hope mr. zurofsky can do his best\",\n",
       " 'RT <user> : Important update on the very questionable investigation of the assault of two detainees by Essex County correctional off…',\n",
       " \"RT <user> : . <user> endorsed BC's plan to develop the Webster Woods and destroy this conservation land. We can not wait to read their c…\"]"
      ]
     },
     "execution_count": 65,
     "metadata": {},
     "output_type": "execute_result"
    }
   ],
   "source": [
    "test_ekp"
   ]
  },
  {
   "cell_type": "code",
   "execution_count": 66,
   "metadata": {},
   "outputs": [],
   "source": [
    "from ekphrasis.utils.nlp import unpack_contractions"
   ]
  },
  {
   "cell_type": "code",
   "execution_count": 67,
   "metadata": {},
   "outputs": [
    {
     "data": {
      "text/plain": [
       "\"agree!!!! can not trust what our county will do honestly and we do not, have not, will not ever support the carceral state but with or without us, it's happening so hope mr. zurofsky can do his best\""
      ]
     },
     "execution_count": 67,
     "metadata": {},
     "output_type": "execute_result"
    }
   ],
   "source": [
    "unpack_contractions(\"agree!!!! can not trust what our county will do honestly and we do not, have not, will not ever support the carceral state but with or without us, it's happening so hope mr. zurofsky can do his best\")"
   ]
  },
  {
   "cell_type": "markdown",
   "metadata": {},
   "source": [
    "Save preprocessed dataset for further use."
   ]
  },
  {
   "cell_type": "code",
   "execution_count": 39,
   "metadata": {},
   "outputs": [],
   "source": [
    "df_time_preprocessed.to_pickle(f'data/{movement}_preprocessed')"
   ]
  }
 ],
 "metadata": {
  "kernelspec": {
   "display_name": "Python 3",
   "language": "python",
   "name": "python3"
  },
  "language_info": {
   "codemirror_mode": {
    "name": "ipython",
    "version": 3
   },
   "file_extension": ".py",
   "mimetype": "text/x-python",
   "name": "python",
   "nbconvert_exporter": "python",
   "pygments_lexer": "ipython3",
   "version": "3.7.7"
  }
 },
 "nbformat": 4,
 "nbformat_minor": 4
}
