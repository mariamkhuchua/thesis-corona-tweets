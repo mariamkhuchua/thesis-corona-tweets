{
 "cells": [
  {
   "cell_type": "markdown",
   "metadata": {},
   "source": [
    "Twitter scraping code: example of USA democratic socialists (case 1)"
   ]
  },
  {
   "cell_type": "code",
   "execution_count": 1,
   "metadata": {},
   "outputs": [],
   "source": [
    "import tweepy\n",
    "from tweepy import OAuthHandler\n",
    "\n",
    "import pickle\n",
    "import pandas as pd\n",
    "import json"
   ]
  },
  {
   "cell_type": "code",
   "execution_count": 2,
   "metadata": {},
   "outputs": [],
   "source": [
    "# Set up Twitter API access\n",
    "with open(\"twitter_auth.json\") as auth_file:\n",
    "    auth_data = json.load(auth_file)\n",
    "\n",
    "consumer_key = auth_data['consumer_key']\n",
    "consumer_secret = auth_data['consumer_secret']\n",
    "access_token = auth_data['access_token']\n",
    "access_secret = auth_data['access_secret']\n",
    "\n",
    "   \n",
    "auth = OAuthHandler(consumer_key, consumer_secret)\n",
    "auth.set_access_token(access_token, access_secret)\n",
    " \n",
    "api = tweepy.API(auth, wait_on_rate_limit = True, wait_on_rate_limit_notify=True)"
   ]
  },
  {
   "cell_type": "code",
   "execution_count": 3,
   "metadata": {},
   "outputs": [],
   "source": [
    "def scrape_tweets(accnames, df, save_name, save_every=20):\n",
    "    \"\"\"Scrape tweets from a list of accounts and store selected features\"\"\"\n",
    "    for i,acc in enumerate(accnames):\n",
    "        print(f'Going through {i} ({i}) - {acc}')\n",
    "        results = tweepy.Cursor(api.user_timeline, screen_name=acc, tweet_mode=\"extended\").items()\n",
    "        try:\n",
    "            json_data = [r._json for r in results]\n",
    "            mini_df = pd.json_normalize(json_data)\n",
    "            mini_df = mini_df[['created_at','id','full_text', 'retweet_count', 'favorite_count', \\\n",
    "                       'favorited', 'retweeted', 'possibly_sensitive', 'lang', 'user.id', 'user.id_str', 'user.name',\\\n",
    "                       'user.screen_name', 'user.location', 'user.description', 'user.url',\n",
    "                        'user.followers_count', 'user.friends_count', 'user.created_at']]\n",
    "            df = pd.concat([df, mini_df])\n",
    "            if i%save_every==0: \n",
    "                print('Saving file')\n",
    "                with open(save_name,'wb') as file:\n",
    "                    pickle.dump(df,file)\n",
    "        except Exception as e:\n",
    "            print(e)\n",
    "            pass\n",
    "    return df"
   ]
  },
  {
   "cell_type": "code",
   "execution_count": 4,
   "metadata": {},
   "outputs": [],
   "source": [
    "# Set the name of the movement here\n",
    "movement = 'demsoc'\n",
    "save_name = f'{movement}_tweets'\n",
    "accnames_path = f'{movement}_accnames.csv'"
   ]
  },
  {
   "cell_type": "code",
   "execution_count": 5,
   "metadata": {},
   "outputs": [],
   "source": [
    "# Get list of account names\n",
    "accnames = pd.read_csv(accnames_path)\n",
    "accnames = list(set(accnames['accnames']))"
   ]
  },
  {
   "cell_type": "code",
   "execution_count": 6,
   "metadata": {},
   "outputs": [
    {
     "name": "stdout",
     "output_type": "stream",
     "text": [
      "Going through 0 (0) - nycYDSA\n",
      "Saving file\n",
      "Going through 1 (1) - cbkDSA\n",
      "Going through 2 (2) - DSA_Immigration\n",
      "Going through 3 (3) - dsa_louisville\n",
      "Going through 4 (4) - nbkDSA\n",
      "Going through 5 (5) - pghDSA\n",
      "Going through 6 (6) - DemSocialists\n",
      "Going through 7 (7) - YDSA_loyola\n",
      "Going through 8 (8) - HeartOfIowaDSA\n",
      "Going through 9 (9) - Boston_DSA\n"
     ]
    },
    {
     "name": "stderr",
     "output_type": "stream",
     "text": [
      "Rate limit reached. Sleeping for: 332\n"
     ]
    },
    {
     "name": "stdout",
     "output_type": "stream",
     "text": [
      "Going through 10 (10) - TampaDSA\n",
      "Going through 11 (11) - salem_dsa\n",
      "Going through 12 (12) - DSA_Enviro\n",
      "Going through 13 (13) - uclaydsa\n",
      "Going through 14 (14) - DSASantaCruz\n",
      "Going through 15 (15) - ChambanaDSA\n",
      "Going through 16 (16) - AnchorageDSA\n",
      "Going through 17 (17) - CentralInDSA\n",
      "Going through 18 (18) - QuietCorner_DSA\n"
     ]
    },
    {
     "name": "stderr",
     "output_type": "stream",
     "text": [
      "Rate limit reached. Sleeping for: 343\n"
     ]
    },
    {
     "name": "stdout",
     "output_type": "stream",
     "text": [
      "Failed to send request: ('Connection aborted.', OSError(\"(10054, 'WSAECONNRESET')\"))\n",
      "Going through 19 (19) - Antelope_DSA\n",
      "Going through 20 (20) - DSAOrangeCounty\n",
      "Saving file\n",
      "Going through 21 (21) - BozemanDSA\n",
      "Going through 22 (22) - IthacaDSA\n",
      "Going through 23 (23) - ydsa_nu\n",
      "Going through 24 (24) - NorthNJDSA\n",
      "Going through 25 (25) - DSAPress\n",
      "Going through 26 (26) - NorthShoreDSA\n",
      "Going through 27 (27) - ydsfresnostate\n",
      "Going through 28 (28) - lawrenceksdsa\n",
      "Going through 29 (29) - CharlestonDSA\n",
      "Twitter error response: status code = 401\n",
      "Going through 30 (30) - ChicagoCityDSA\n",
      "Going through 31 (31) - DSALongBeach\n"
     ]
    },
    {
     "name": "stderr",
     "output_type": "stream",
     "text": [
      "Rate limit reached. Sleeping for: 359\n"
     ]
    },
    {
     "name": "stdout",
     "output_type": "stream",
     "text": [
      "Failed to send request: ('Connection aborted.', OSError(\"(10054, 'WSAECONNRESET')\"))\n",
      "Going through 32 (32) - whatcomdsa\n",
      "Going through 33 (33) - ydsumn\n",
      "Going through 34 (34) - DSA_LosAngeles\n",
      "Going through 35 (35) - dsaiowacity\n",
      "Going through 36 (36) - DSA_SanDiego\n",
      "Going through 37 (37) - GSO_DSA\n",
      "Going through 38 (38) - dsantxcc\n",
      "Going through 39 (39) - Billings_DSA\n",
      "Going through 40 (40) - austin_DSA\n"
     ]
    },
    {
     "name": "stderr",
     "output_type": "stream",
     "text": [
      "Rate limit reached. Sleeping for: 352\n"
     ]
    },
    {
     "name": "stdout",
     "output_type": "stream",
     "text": [
      "Failed to send request: ('Connection aborted.', OSError(\"(10054, 'WSAECONNRESET')\"))\n",
      "Going through 41 (41) - AuburnDSA\n",
      "Going through 42 (42) - okcdsausa\n",
      "Going through 43 (43) - BoiseDSA\n",
      "Going through 44 (44) - DSASnoCo\n",
      "Going through 45 (45) - JerseyShoreDSA\n",
      "Going through 46 (46) - BuffaloDSA\n",
      "Going through 47 (47) - bernieDSAPDX\n",
      "Going through 48 (48) - DSA_Cleveland\n",
      "Going through 49 (49) - wes_ydsa\n",
      "Going through 50 (50) - AshevilleDSA\n",
      "Going through 51 (51) - VT_YDSA\n",
      "Going through 52 (52) - LakeMcHenryDSA\n"
     ]
    },
    {
     "name": "stderr",
     "output_type": "stream",
     "text": [
      "Rate limit reached. Sleeping for: 356\n"
     ]
    },
    {
     "name": "stdout",
     "output_type": "stream",
     "text": [
      "Failed to send request: ('Connection aborted.', OSError(\"(10054, 'WSAECONNRESET')\"))\n",
      "Going through 53 (53) - HuronValleyDSA\n",
      "Going through 54 (54) - SV_DSA\n",
      "Going through 55 (55) - DSA_WesternCT\n",
      "Going through 56 (56) - CapDistrictDSA\n",
      "Going through 57 (57) - BuxMontDSA\n",
      "Going through 58 (58) - YaleYDSA\n",
      "Going through 59 (59) - YooperDSA\n"
     ]
    },
    {
     "name": "stderr",
     "output_type": "stream",
     "text": [
      "Rate limit reached. Sleeping for: 366\n"
     ]
    },
    {
     "name": "stdout",
     "output_type": "stream",
     "text": [
      "Failed to send request: ('Connection aborted.', OSError(\"(10054, 'WSAECONNRESET')\"))\n",
      "Going through 60 (60) - DSALaPlataCo\n",
      "Saving file\n",
      "Going through 61 (61) - nyuydsa\n",
      "Going through 62 (62) - SDSA4Bernie\n",
      "Going through 63 (63) - DSA_NorthTexas\n",
      "Going through 64 (64) - Wichita_DSA\n",
      "Going through 65 (65) - ncwvdsa\n",
      "Going through 66 (66) - PortlandDSA\n",
      "Going through 67 (67) - smithcollegeyds\n",
      "Going through 68 (68) - NoMiDSA\n",
      "Going through 69 (69) - dsasouthjersey\n",
      "Going through 70 (70) - LasVegasDSA\n"
     ]
    },
    {
     "name": "stderr",
     "output_type": "stream",
     "text": [
      "Rate limit reached. Sleeping for: 366\n"
     ]
    },
    {
     "name": "stdout",
     "output_type": "stream",
     "text": [
      "Failed to send request: ('Connection aborted.', OSError(\"(10054, 'WSAECONNRESET')\"))\n",
      "Going through 71 (71) - DSM_DSA\n",
      "Going through 72 (72) - DSA_Dayton\n",
      "Going through 73 (73) - losalydsa\n",
      "Going through 74 (74) - DSAolympia\n",
      "Going through 75 (75) - SEO_DSA\n",
      "Going through 76 (76) - N_Indiana_DSA\n",
      "Going through 77 (77) - DSAMadison\n",
      "Going through 78 (78) - ydsancsu\n",
      "Going through 79 (79) - KVDSA\n",
      "Going through 80 (80) - WorcDSA\n",
      "Saving file\n",
      "Going through 81 (81) - SEAlaska_DSA\n",
      "Going through 82 (82) - HudCoDSA\n",
      "Going through 83 (83) - ctdsa\n",
      "Twitter error response: status code = 404\n",
      "Going through 84 (84) - BloNo_DSA\n",
      "Going through 85 (85) - Orlando_DSA\n"
     ]
    },
    {
     "name": "stderr",
     "output_type": "stream",
     "text": [
      "Rate limit reached. Sleeping for: 333\n"
     ]
    },
    {
     "name": "stdout",
     "output_type": "stream",
     "text": [
      "Going through 86 (86) - YDSA_WM\n",
      "Going through 87 (87) - SeattleDSA\n",
      "Going through 88 (88) - PalmBeachDSA\n",
      "Going through 89 (89) - Columbus_DSA\n",
      "Going through 90 (90) - Montana_DSA\n",
      "Going through 91 (91) - PhillyDSA\n",
      "Going through 92 (92) - FoothillsDSA\n",
      "Going through 93 (93) - BrazosValleyDSA\n",
      "Going through 94 (94) - YDSA_OU\n",
      "Going through 95 (95) - SangamonDSA\n",
      "Going through 96 (96) - DSA_KC\n",
      "Going through 97 (97) - snhdsa\n"
     ]
    },
    {
     "name": "stderr",
     "output_type": "stream",
     "text": [
      "Rate limit reached. Sleeping for: 357\n"
     ]
    },
    {
     "name": "stdout",
     "output_type": "stream",
     "text": [
      "Failed to send request: ('Connection aborted.', OSError(\"(10054, 'WSAECONNRESET')\"))\n",
      "Going through 98 (98) - SEUYDSA\n",
      "Going through 99 (99) - hunter_ydsa\n",
      "Going through 100 (100) - LansingDSA\n",
      "Saving file\n",
      "Going through 101 (101) - MilwaukeeDSA\n",
      "Going through 102 (102) - ColumbiaDSA\n",
      "Going through 103 (103) - BU_YDSA\n",
      "Going through 104 (104) - CentralFLDSA\n",
      "Going through 105 (105) - N_NevadaDSA\n",
      "Going through 106 (106) - DSAVeterans\n",
      "Going through 107 (107) - PinellasDSA\n",
      "Going through 108 (108) - DBQSocialists\n",
      "Going through 109 (109) - rrvdsa\n",
      "Going through 110 (110) - DSA_Jax\n",
      "Going through 111 (111) - DSARichmond\n"
     ]
    },
    {
     "name": "stderr",
     "output_type": "stream",
     "text": [
      "Rate limit reached. Sleeping for: 340\n"
     ]
    },
    {
     "name": "stdout",
     "output_type": "stream",
     "text": [
      "Failed to send request: ('Connection aborted.', OSError(\"(10054, 'WSAECONNRESET')\"))\n",
      "Going through 112 (112) - epwvdsa\n",
      "Going through 113 (113) - YDS_BC\n",
      "Going through 114 (114) - InlandEmpireDSA\n",
      "Going through 115 (115) - DSAdenver\n",
      "Going through 116 (116) - BhamDSA\n",
      "Going through 117 (117) - DSA_Phoenix\n",
      "Going through 118 (118) - dsa_rva\n",
      "Going through 119 (119) - DSANorthernIL\n",
      "Going through 120 (120) - YDSAosu\n",
      "Saving file\n",
      "Going through 121 (121) - nycDSA\n"
     ]
    },
    {
     "name": "stderr",
     "output_type": "stream",
     "text": [
      "Rate limit reached. Sleeping for: 326\n"
     ]
    },
    {
     "name": "stdout",
     "output_type": "stream",
     "text": [
      "Failed to send request: ('Connection aborted.', OSError(\"(10054, 'WSAECONNRESET')\"))\n",
      "Going through 122 (122) - ProvDSA\n",
      "Going through 123 (123) - SV_DSA_SJ\n",
      "Going through 124 (124) - dsam4a\n",
      "Going through 125 (125) - PVDemSoc\n",
      "Going through 126 (126) - CapeCodDSA\n",
      "Going through 127 (127) - slcDSA\n",
      "Going through 128 (128) - QueerDSA\n"
     ]
    },
    {
     "name": "stderr",
     "output_type": "stream",
     "text": [
      "Rate limit reached. Sleeping for: 345\n"
     ]
    },
    {
     "name": "stdout",
     "output_type": "stream",
     "text": [
      "Going through 129 (129) - abqdsa\n",
      "Going through 130 (130) - DSADurham\n",
      "Going through 131 (131) - kansascitydsa\n",
      "Going through 132 (132) - NewOrleansDSA\n",
      "Going through 133 (133) - cltdsa\n",
      "Going through 134 (134) - DSAarkansas\n",
      "Going through 135 (135) - Pensasocialists\n",
      "Going through 136 (136) - middletndsa\n",
      "\"['possibly_sensitive'] not in index\"\n",
      "Going through 137 (137) - VCU_YDSA\n",
      "Going through 138 (138) - BatonRougeDSA\n",
      "Going through 139 (139) - DSALincolnNE\n",
      "Going through 140 (140) - YDSAGT\n",
      "Saving file\n",
      "Going through 141 (141) - MiamiDSA\n"
     ]
    },
    {
     "name": "stderr",
     "output_type": "stream",
     "text": [
      "Rate limit reached. Sleeping for: 349\n"
     ]
    },
    {
     "name": "stdout",
     "output_type": "stream",
     "text": [
      "Failed to send request: ('Connection aborted.', OSError(\"(10054, 'WSAECONNRESET')\"))\n",
      "Going through 142 (142) - stlouisdsa\n",
      "Going through 143 (143) - MSU_YDSA\n",
      "Going through 144 (144) - SeattleDSA_East\n",
      "Going through 145 (145) - SoKYDSA\n",
      "Going through 146 (146) - SouthernUtahDSA\n",
      "Going through 147 (147) - SWMIDSA\n",
      "Going through 148 (148) - SuffolkDSA\n",
      "Going through 149 (149) - DSAEastBay\n",
      "Going through 150 (150) - DSAoftheRGV\n",
      "Going through 151 (151) - YDSAArcadia\n",
      "Twitter error response: status code = 404\n",
      "Going through 152 (152) - NassauDSA\n",
      "Going through 153 (153) - OmahaDSA\n"
     ]
    },
    {
     "name": "stderr",
     "output_type": "stream",
     "text": [
      "Rate limit reached. Sleeping for: 293\n"
     ]
    },
    {
     "name": "stdout",
     "output_type": "stream",
     "text": [
      "Going through 154 (154) - DSA_SF\n",
      "Going through 155 (155) - BloomingtonDSA\n",
      "Going through 156 (156) - PortageDSA\n",
      "Going through 157 (157) - ydsa_sdsu\n",
      "Going through 158 (158) - rpiYDSA\n",
      "Going through 159 (159) - CDSAForBernie\n",
      "Going through 160 (160) - DSAVentura\n",
      "Saving file\n",
      "Going through 161 (161) - bmoreDSA\n",
      "Going through 162 (162) - DaytonaBeachDSA\n",
      "Going through 163 (163) - DSA_AugustaCSRA\n",
      "Going through 164 (164) - SoInd_DSA\n",
      "Going through 165 (165) - TacomaDSA\n",
      "Going through 166 (166) - KnoxvilleDSA\n"
     ]
    },
    {
     "name": "stderr",
     "output_type": "stream",
     "text": [
      "Rate limit reached. Sleeping for: 351\n"
     ]
    },
    {
     "name": "stdout",
     "output_type": "stream",
     "text": [
      "Failed to send request: ('Connection aborted.', OSError(\"(10054, 'WSAECONNRESET')\"))\n",
      "Going through 167 (167) - WestSoundDSA\n",
      "Going through 168 (168) - akrondsa\n",
      "Going through 169 (169) - DSA_SouthernME\n",
      "Going through 170 (170) - dsa_chatt\n",
      "Going through 171 (171) - CentralNJDSA\n",
      "Going through 172 (172) - southern_il_dsa\n",
      "Going through 173 (173) - UptownBronxDSA\n",
      "Going through 174 (174) - TallahasseeDSA\n",
      "Going through 175 (175) - QuadCitiesDSA\n",
      "Going through 176 (176) - rocDSA\n"
     ]
    },
    {
     "name": "stderr",
     "output_type": "stream",
     "text": [
      "Rate limit reached. Sleeping for: 332\n"
     ]
    },
    {
     "name": "stdout",
     "output_type": "stream",
     "text": [
      "Going through 177 (177) - DSAFundathon\n",
      "Going through 178 (178) - MemphisDSA\n",
      "Going through 179 (179) - MobileDSA\n",
      "Going through 180 (180) - DSALehighValley\n",
      "Saving file\n",
      "Going through 181 (181) - DSASantaFe\n",
      "Going through 182 (182) - DSADesignCmte\n",
      "Going through 183 (183) - chicodsa\n",
      "Going through 184 (184) - BrowardDSA\n",
      "Going through 185 (185) - DSA_Eugene\n",
      "Going through 186 (186) - unc_ydsa\n"
     ]
    },
    {
     "name": "stderr",
     "output_type": "stream",
     "text": [
      "Rate limit reached. Sleeping for: 331\n"
     ]
    },
    {
     "name": "stdout",
     "output_type": "stream",
     "text": [
      "Failed to send request: ('Connection aborted.', OSError(\"(10054, 'WSAECONNRESET')\"))\n",
      "Going through 187 (187) - dsa_lsc\n",
      "Going through 188 (188) - SV_DSA_LP\n",
      "Going through 189 (189) - TidewaterDSA\n",
      "Going through 190 (190) - BoulderDSA\n",
      "Going through 191 (191) - sbkDSA\n",
      "Going through 192 (192) - YDSABloomington\n",
      "Going through 193 (193) - mdc_dsa\n",
      "Going through 194 (194) - mhvdsa\n",
      "Going through 195 (195) - DSACincy\n",
      "Going through 196 (196) - greencountrydsa\n",
      "Going through 197 (197) - WesternMT_DSA\n"
     ]
    },
    {
     "name": "stderr",
     "output_type": "stream",
     "text": [
      "Rate limit reached. Sleeping for: 336\n"
     ]
    },
    {
     "name": "stdout",
     "output_type": "stream",
     "text": [
      "Failed to send request: ('Connection aborted.', OSError(\"(10054, 'WSAECONNRESET')\"))\n",
      "Going through 198 (198) - champvalleydsa\n",
      "Going through 199 (199) - PBDSA\n",
      "Going through 200 (200) - detroitdsa\n",
      "Saving file\n",
      "Going through 201 (201) - GrandRapidsDSA\n",
      "Going through 202 (202) - harrisburg_dsa\n",
      "Going through 203 (203) - lhvdsa\n",
      "Going through 204 (204) - SE_WY_DSA\n",
      "Going through 205 (205) - QueensDSA\n",
      "Going through 206 (206) - eriedsa\n",
      "Going through 207 (207) - CvilleDSA\n",
      "Going through 208 (208) - littlerockDSA\n",
      "Going through 209 (209) - dsanorthbay\n",
      "Going through 210 (210) - Lancaster_DSA\n"
     ]
    },
    {
     "name": "stderr",
     "output_type": "stream",
     "text": [
      "Rate limit reached. Sleeping for: 343\n"
     ]
    },
    {
     "name": "stdout",
     "output_type": "stream",
     "text": [
      "Failed to send request: ('Connection aborted.', OSError(\"(10054, 'WSAECONNRESET')\"))\n",
      "Going through 211 (211) - syrDSA\n",
      "Going through 212 (212) - HoustonDSA\n",
      "Going through 213 (213) - DSA_law\n",
      "Going through 214 (214) - LowManDSA\n",
      "Going through 215 (215) - TwinCitiesDSA\n",
      "Going through 216 (216) - BrookingsDSA\n",
      "\"['possibly_sensitive'] not in index\"\n",
      "Going through 217 (217) - DSASac\n",
      "Going through 218 (218) - palousedsa\n",
      "Going through 219 (219) - sb_dsa\n",
      "Going through 220 (220) - fxbgdsa\n",
      "Saving file\n",
      "Going through 221 (221) - centrecodsa\n"
     ]
    },
    {
     "name": "stderr",
     "output_type": "stream",
     "text": [
      "Rate limit reached. Sleeping for: 344\n"
     ]
    },
    {
     "name": "stdout",
     "output_type": "stream",
     "text": [
      "Failed to send request: ('Connection aborted.', OSError(\"(10054, 'WSAECONNRESET')\"))\n",
      "Going through 222 (222) - YDSA_\n",
      "Going through 223 (223) - DSA_Tucson\n",
      "Going through 224 (224) - MetroATLDSA\n",
      "Going through 225 (225) - dsa_nova\n",
      "Going through 226 (226) - YDS_Princeton\n",
      "Going through 227 (227) - Yallidarity\n",
      "Going through 228 (228) - SpringfieldDSA\n",
      "Twitter error response: status code = 404\n",
      "Going through 229 (229) - MidMoDSA\n",
      "Going through 230 (230) - MidTNDSA\n",
      "Going through 231 (231) - WestSuburbILDSA\n",
      "Going through 232 (232) - DSAEmerge\n",
      "Going through 233 (233) - YDSAumd\n",
      "Going through 234 (234) - DSA_Labor\n"
     ]
    },
    {
     "name": "stderr",
     "output_type": "stream",
     "text": [
      "Rate limit reached. Sleeping for: 348\n"
     ]
    },
    {
     "name": "stdout",
     "output_type": "stream",
     "text": [
      "Failed to send request: ('Connection aborted.', OSError(\"(10054, 'WSAECONNRESET')\"))\n",
      "Going through 235 (235) - dsa_fresno\n",
      "Going through 236 (236) - NC_DSA\n",
      "Going through 237 (237) - spokanedsa\n",
      "Going through 238 (238) - LexingtonDSA\n",
      "Going through 239 (239) - northeasttndsa\n",
      "Going through 240 (240) - nycDSAantiwar\n",
      "Saving file\n",
      "Going through 241 (241) - HaysSocialists\n",
      "Going through 242 (242) - PomonaValleyDSA\n",
      "Going through 243 (243) - SpaceCoastDSA\n",
      "Going through 244 (244) - SanAntonioDSA\n",
      "Going through 245 (245) - nwohiodsa\n",
      "Going through 246 (246) - DSA_tuscaloosa\n",
      "Going through 247 (247) - NYCDSA_Climate\n",
      "Going through 248 (248) - PeoriaDSA\n"
     ]
    },
    {
     "name": "stderr",
     "output_type": "stream",
     "text": [
      "Rate limit reached. Sleeping for: 315\n"
     ]
    },
    {
     "name": "stdout",
     "output_type": "stream",
     "text": [
      "Failed to send request: ('Connection aborted.', OSError(\"(10054, 'WSAECONNRESET')\"))\n"
     ]
    }
   ],
   "source": [
    "df = pd.DataFrame()\n",
    "df = scrape_tweets(accnames, df, save_name)"
   ]
  },
  {
   "cell_type": "code",
   "execution_count": 7,
   "metadata": {},
   "outputs": [],
   "source": [
    "def check_completeness(accnames, df):\n",
    "    \"\"\"Check whether all accnames have been scraped and return a list of those unscraped\"\"\"\n",
    "    lower_scraped_accnames = [acc.lower() for acc in list(set(df['user.screen_name'].values))]\n",
    "    lower_accnames = [acc.lower() for acc in list(set(accnames))]\n",
    "    rest_accnames = list(set(lower_accnames) - set(lower_scraped_accnames))\n",
    "    return rest_accnames"
   ]
  },
  {
   "cell_type": "code",
   "execution_count": 8,
   "metadata": {},
   "outputs": [
    {
     "name": "stdout",
     "output_type": "stream",
     "text": [
      "Going through 0 (0) - springfielddsa\n",
      "Twitter error response: status code = 404\n",
      "Going through 1 (1) - peoriadsa\n",
      "Going through 2 (2) - nycdsa\n",
      "Going through 3 (3) - charlestondsa\n",
      "Twitter error response: status code = 401\n",
      "Going through 4 (4) - ctdsa\n",
      "Twitter error response: status code = 404\n",
      "Going through 5 (5) - knoxvilledsa\n",
      "Going through 6 (6) - brookingsdsa\n",
      "\"['possibly_sensitive'] not in index\"\n",
      "Going through 7 (7) - quietcorner_dsa\n",
      "Going through 8 (8) - westernmt_dsa\n",
      "Going through 9 (9) - snhdsa\n",
      "Going through 10 (10) - miamidsa\n",
      "Going through 11 (11) - dsarichmond\n",
      "Going through 12 (12) - lakemchenrydsa\n",
      "Going through 13 (13) - yooperdsa\n"
     ]
    },
    {
     "name": "stderr",
     "output_type": "stream",
     "text": [
      "Rate limit reached. Sleeping for: 322\n"
     ]
    },
    {
     "name": "stdout",
     "output_type": "stream",
     "text": [
      "Failed to send request: ('Connection aborted.', OSError(\"(10054, 'WSAECONNRESET')\"))\n",
      "Going through 14 (14) - centrecodsa\n",
      "Failed to send request: HTTPSConnectionPool(host='api.twitter.com', port=443): Read timed out.\n",
      "Going through 15 (15) - dsalongbeach\n",
      "Failed to send request: HTTPSConnectionPool(host='api.twitter.com', port=443): Max retries exceeded with url: /1.1/statuses/user_timeline.json?screen_name=dsalongbeach&tweet_mode=extended (Caused by NewConnectionError('<urllib3.connection.VerifiedHTTPSConnection object at 0x0000019C396DA148>: Failed to establish a new connection: [WinError 10060] A connection attempt failed because the connected party did not properly respond after a period of time, or established connection failed because connected host has failed to respond'))\n",
      "Going through 16 (16) - ydsaarcadia\n",
      "Twitter error response: status code = 404\n",
      "Going through 17 (17) - dsa_labor\n",
      "Going through 18 (18) - lasvegasdsa\n",
      "Going through 19 (19) - austin_dsa\n",
      "Going through 20 (20) - lancaster_dsa\n",
      "Saving file\n",
      "Going through 21 (21) - middletndsa\n",
      "\"['possibly_sensitive'] not in index\"\n",
      "Going through 22 (22) - unc_ydsa\n"
     ]
    }
   ],
   "source": [
    "# Scrape any leftover accnames\n",
    "rest_accnames = check_completeness(accnames, df)\n",
    "if len(rest_accnames)>0:\n",
    "    df = scrape_tweets(rest_accnames, df,  save_name)"
   ]
  },
  {
   "cell_type": "code",
   "execution_count": 9,
   "metadata": {},
   "outputs": [
    {
     "name": "stdout",
     "output_type": "stream",
     "text": [
      "(387854, 19)\n",
      "240\n",
      "(387854, 19)\n",
      "240\n"
     ]
    }
   ],
   "source": [
    "# Check df shape and number of unique accounts\n",
    "print(df.shape)\n",
    "print(len(set(df['user.screen_name'].values)))\n",
    "# Drop duplicates and check shape/number again\n",
    "df = df.drop_duplicates(subset = ['id', 'full_text'], keep='first')\n",
    "print(df.shape)\n",
    "print(len(set(df['user.screen_name'].values)))"
   ]
  },
  {
   "cell_type": "code",
   "execution_count": 11,
   "metadata": {},
   "outputs": [],
   "source": [
    "# Save final df\n",
    "with open(save_name,'wb') as file:\n",
    "    pickle.dump(df,file)"
   ]
  }
 ],
 "metadata": {
  "kernelspec": {
   "display_name": "Python 3",
   "language": "python",
   "name": "python3"
  },
  "language_info": {
   "codemirror_mode": {
    "name": "ipython",
    "version": 3
   },
   "file_extension": ".py",
   "mimetype": "text/x-python",
   "name": "python",
   "nbconvert_exporter": "python",
   "pygments_lexer": "ipython3",
   "version": "3.7.7"
  }
 },
 "nbformat": 4,
 "nbformat_minor": 4
}
