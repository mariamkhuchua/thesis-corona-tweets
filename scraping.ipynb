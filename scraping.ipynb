{
 "cells": [
  {
   "cell_type": "markdown",
   "metadata": {},
   "source": [
    "## Twitter scraping code\n",
    "Example of USA Sunrise Movement"
   ]
  },
  {
   "cell_type": "code",
   "execution_count": 1,
   "metadata": {},
   "outputs": [],
   "source": [
    "import tweepy\n",
    "from tweepy import OAuthHandler\n",
    "\n",
    "import pickle\n",
    "import pandas as pd\n",
    "import json"
   ]
  },
  {
   "cell_type": "code",
   "execution_count": 2,
   "metadata": {},
   "outputs": [],
   "source": [
    "# Set up Twitter API access\n",
    "with open(\"../twitter_auth.json\") as auth_file:\n",
    "    auth_data = json.load(auth_file)\n",
    "\n",
    "consumer_key = auth_data['consumer_key']\n",
    "consumer_secret = auth_data['consumer_secret']\n",
    "access_token = auth_data['access_token']\n",
    "access_secret = auth_data['access_secret']\n",
    "\n",
    "   \n",
    "auth = OAuthHandler(consumer_key, consumer_secret)\n",
    "auth.set_access_token(access_token, access_secret)\n",
    " \n",
    "api = tweepy.API(auth, wait_on_rate_limit = True, wait_on_rate_limit_notify=True)"
   ]
  },
  {
   "cell_type": "code",
   "execution_count": 3,
   "metadata": {},
   "outputs": [],
   "source": [
    "def scrape_tweets(accnames, df, save_name, save_every=20):\n",
    "    \"\"\"Scrape tweets from a list of accounts and store selected features\"\"\"\n",
    "    for i,acc in enumerate(accnames):\n",
    "        print(f'Going through {i} ({i}) - {acc}')\n",
    "        results = tweepy.Cursor(api.user_timeline, screen_name=acc, tweet_mode=\"extended\").items()\n",
    "        try:\n",
    "            json_data = [r._json for r in results]\n",
    "            mini_df = pd.json_normalize(json_data)\n",
    "            mini_df = mini_df[['created_at','id','full_text', 'retweet_count', 'favorite_count', \\\n",
    "                       'favorited', 'retweeted', 'possibly_sensitive', 'lang', 'user.id', 'user.id_str', 'user.name',\\\n",
    "                       'user.screen_name', 'user.location', 'user.description', 'user.url',\n",
    "                        'user.followers_count', 'user.friends_count', 'user.created_at']]\n",
    "            df = pd.concat([df, mini_df])\n",
    "            if i%save_every==0: \n",
    "                print('Saving file')\n",
    "                with open(save_name,'wb') as file:\n",
    "                    pickle.dump(df,file)\n",
    "        except Exception as e:\n",
    "            print(e)\n",
    "            pass\n",
    "    return df"
   ]
  },
  {
   "cell_type": "code",
   "execution_count": 4,
   "metadata": {},
   "outputs": [],
   "source": [
    "# Set the name of the movement here\n",
    "movement = 'sunrise'\n",
    "save_name = f'data/raw/{movement}_tweets'\n",
    "accnames_path = f'data/accnames/{movement}_accnames.csv'"
   ]
  },
  {
   "cell_type": "code",
   "execution_count": 5,
   "metadata": {},
   "outputs": [],
   "source": [
    "# Get list of account names\n",
    "accnames = pd.read_csv(accnames_path)\n",
    "accnames = list(set(accnames['accnames']))"
   ]
  },
  {
   "cell_type": "code",
   "execution_count": 6,
   "metadata": {},
   "outputs": [
    {
     "name": "stdout",
     "output_type": "stream",
     "text": [
      "Going through 0 (0) - SunriseChico\n",
      "Saving file\n",
      "Going through 1 (1) - sunrisemvmtkc\n",
      "Going through 2 (2) - SunriseWhb\n",
      "Going through 3 (3) - sunrisemvmtgr\n",
      "Going through 4 (4) - Sunrise_Davis\n",
      "Going through 5 (5) - sunrisemvmtCLT\n",
      "Going through 6 (6) - sunriseslvrsprg\n",
      "Going through 7 (7) - sunrisemvmtSC\n",
      "Going through 8 (8) - SunriseMvmtDC\n",
      "Going through 9 (9) - SunriseMadison1\n",
      "Going through 10 (10) - sunrisemvmtbgky\n",
      "Going through 11 (11) - sunriseCWRU\n",
      "Going through 12 (12) - wmsunrisemvmt\n",
      "Going through 13 (13) - GreenTheDollar\n",
      "Going through 14 (14) - SunriseKnox\n",
      "Going through 15 (15) - SunriseMaine\n",
      "Going through 16 (16) - sunriseburly\n",
      "Going through 17 (17) - SunriseMvmtCLE\n",
      "Going through 18 (18) - SunriseRivertwn\n",
      "Going through 19 (19) - SE_WY_DSA\n",
      "Going through 20 (20) - sunrise_rgv\n",
      "Saving file\n",
      "Going through 21 (21) - SunriseNOLA\n",
      "Going through 22 (22) - SunriseWake\n",
      "Going through 23 (23) - SunriseCville\n",
      "Going through 24 (24) - SunriseTLH\n",
      "Going through 25 (25) - sunrisemvmtFLG\n",
      "Going through 26 (26) - sunrisephilly\n",
      "Going through 27 (27) - sunrisefranktn\n",
      "Going through 28 (28) - SunriseConn\n",
      "Going through 29 (29) - SunriseWorc\n",
      "Going through 30 (30) - gshs_sda\n",
      "Going through 31 (31) - sunrisemvmtoc\n",
      "Going through 32 (32) - SunriseMvmt_WH\n",
      "Going through 33 (33) - SunrisePennsbu1\n",
      "Going through 34 (34) - san_sunrise\n",
      "Going through 35 (35) - sunrisemvmtPHX\n",
      "Going through 36 (36) - SunriseMvmtChi\n",
      "Going through 37 (37) - Sunrise_UMB\n",
      "Going through 38 (38) - OmahaSunrise\n",
      "Going through 39 (39) - UDSunrise\n",
      "Going through 40 (40) - sunrise_nbpt\n",
      "Saving file\n",
      "Going through 41 (41) - SunriseWalla2\n",
      "Going through 42 (42) - sunrisenga\n",
      "Going through 43 (43) - dallas_sunrise\n",
      "Going through 44 (44) - SunriseBoston\n"
     ]
    },
    {
     "name": "stderr",
     "output_type": "stream",
     "text": [
      "Rate limit reached. Sleeping for: 343\n"
     ]
    },
    {
     "name": "stdout",
     "output_type": "stream",
     "text": [
      "Failed to send request: ('Connection aborted.', ConnectionResetError(10054, 'An existing connection was forcibly closed by the remote host', None, 10054, None))\n",
      "Going through 45 (45) - SacSunrise\n",
      "Going through 46 (46) - sunrisenashtn\n",
      "Going through 47 (47) - SunriseBerks\n",
      "Going through 48 (48) - SunriseLAYouth\n",
      "Going through 49 (49) - sunrisemvmtokc\n",
      "Going through 50 (50) - SunriseJoliet\n",
      "Going through 51 (51) - SCsunrisemvmt\n",
      "Going through 52 (52) - sunrisechiarea\n",
      "Going through 53 (53) - SunriseOberlin\n",
      "Going through 54 (54) - sunrisebham\n",
      "Going through 55 (55) - sunrisecolumbia\n",
      "Going through 56 (56) - BmcSunrise\n",
      "Going through 57 (57) - sunrise_slo\n",
      "Going through 58 (58) - Sunrise_WA\n",
      "Going through 59 (59) - Sunrise_JS\n",
      "Going through 60 (60) - Lex_Sunrise\n",
      "Saving file\n",
      "Going through 61 (61) - sunrisemvmtnova\n",
      "Going through 62 (62) - sunrisemvmt\n",
      "Going through 63 (63) - sunriseneu\n",
      "Going through 64 (64) - sunrisemvmtCR\n",
      "Going through 65 (65) - BoulderSunrise\n",
      "Going through 66 (66) - SunrisePDX\n",
      "Going through 67 (67) - SunriseHoCo\n",
      "Going through 68 (68) - sunriseLR\n",
      "Going through 69 (69) - sunrisemvmnteug\n",
      "Going through 70 (70) - SunriseWestford\n",
      "Going through 71 (71) - HamiltonSunrise\n",
      "Going through 72 (72) - sunrise_slc\n",
      "Going through 73 (73) - SunriseLI1\n",
      "Going through 74 (74) - SunriseBrwnRISD\n",
      "Going through 75 (75) - SunriseMvmt_LFK\n",
      "Going through 76 (76) - sunrisemvmtsoil\n",
      "Going through 77 (77) - SunriseBmore\n",
      "Going through 78 (78) - sunrisewwu\n",
      "Going through 79 (79) - Sunrise_spokane\n",
      "Going through 80 (80) - sunrisekzoo\n"
     ]
    },
    {
     "name": "stderr",
     "output_type": "stream",
     "text": [
      "Rate limit reached. Sleeping for: 346\n"
     ]
    },
    {
     "name": "stdout",
     "output_type": "stream",
     "text": [
      "Failed to send request: ('Connection aborted.', ConnectionResetError(10054, 'An existing connection was forcibly closed by the remote host', None, 10054, None))\n",
      "Going through 81 (81) - SunriseMvmtLA\n",
      "Going through 82 (82) - sunrisemvmtgwu\n",
      "Going through 83 (83) - oc_sunrise\n",
      "Going through 84 (84) - SunriseMvmtTC\n",
      "Going through 85 (85) - SunriseBoise\n",
      "Going through 86 (86) - sunrise_indy\n",
      "Going through 87 (87) - SunriseGso\n",
      "Going through 88 (88) - Sunrisemvmt_sea\n",
      "Going through 89 (89) - SunriseLuc\n",
      "Going through 90 (90) - SunriseNewHaven\n",
      "Going through 91 (91) - SunriseMvmtHTX\n",
      "Going through 92 (92) - sunriseatx\n",
      "Going through 93 (93) - StlSunrise\n",
      "Going through 94 (94) - SunrisemvmtCorv\n",
      "Going through 95 (95) - sunrisemvmtnyc\n",
      "Going through 96 (96) - sunriseannarbor\n",
      "Going through 97 (97) - sunrise_PVD\n",
      "Going through 98 (98) - BeavertonHub\n",
      "Going through 99 (99) - SunriseLansing\n",
      "Going through 100 (100) - sunrisefcma\n",
      "Saving file\n",
      "Going through 101 (101) - SunrisePaloAlto\n",
      "Going through 102 (102) - sunrisemvmtlou\n",
      "Going through 103 (103) - GrinnellSunrise\n",
      "Going through 104 (104) - SunriseMVMTswwa\n",
      "Going through 105 (105) - SunriseFtWayne\n",
      "Going through 106 (106) - sunrisemankato\n",
      "Going through 107 (107) - sunrisemvmtslc\n",
      "Going through 108 (108) - SunriseMvmtRVA\n"
     ]
    },
    {
     "name": "stderr",
     "output_type": "stream",
     "text": [
      "Rate limit reached. Sleeping for: 340\n"
     ]
    },
    {
     "name": "stdout",
     "output_type": "stream",
     "text": [
      "Failed to send request: ('Connection aborted.', ConnectionResetError(10054, 'An existing connection was forcibly closed by the remote host', None, 10054, None))\n",
      "Going through 109 (109) - SunriseCADesert\n",
      "Going through 110 (110) - SunriseMKE\n",
      "Going through 111 (111) - SunriseKern\n",
      "Going through 112 (112) - sunrisebayarea\n",
      "Going through 113 (113) - sunrisemvmt_rb\n",
      "Going through 114 (114) - SunriseCNY\n",
      "Going through 115 (115) - morrissunrise\n",
      "Going through 116 (116) - HubScioto\n",
      "Going through 117 (117) - SunriseDanbury\n",
      "Going through 118 (118) - sunriseeasthamp\n",
      "Going through 119 (119) - SunriseSouthB\n",
      "Going through 120 (120) - RoanokeSunrise\n",
      "Saving file\n",
      "Going through 121 (121) - SunriseFresno\n",
      "Going through 122 (122) - sunrisecapecod\n"
     ]
    }
   ],
   "source": [
    "df = pd.DataFrame()\n",
    "df = scrape_tweets(accnames, df, save_name)"
   ]
  },
  {
   "cell_type": "code",
   "execution_count": 7,
   "metadata": {},
   "outputs": [],
   "source": [
    "def check_completeness(accnames, df):\n",
    "    \"\"\"Check whether all accnames have been scraped and return a list of those unscraped\"\"\"\n",
    "    lower_scraped_accnames = [acc.lower() for acc in list(set(df['user.screen_name'].values))]\n",
    "    lower_accnames = [acc.lower() for acc in list(set(accnames))]\n",
    "    rest_accnames = list(set(lower_accnames) - set(lower_scraped_accnames))\n",
    "    return rest_accnames"
   ]
  },
  {
   "cell_type": "code",
   "execution_count": 8,
   "metadata": {},
   "outputs": [
    {
     "name": "stdout",
     "output_type": "stream",
     "text": [
      "Going through 0 (0) - sunrisekzoo\n",
      "Saving file\n",
      "Going through 1 (1) - sunriseboston\n",
      "Going through 2 (2) - sunrisemvmtrva\n"
     ]
    }
   ],
   "source": [
    "# Scrape any leftover accnames\n",
    "rest_accnames = check_completeness(accnames, df)\n",
    "if len(rest_accnames)>0:\n",
    "    df = scrape_tweets(rest_accnames, df,  save_name)"
   ]
  },
  {
   "cell_type": "code",
   "execution_count": 9,
   "metadata": {},
   "outputs": [
    {
     "name": "stdout",
     "output_type": "stream",
     "text": [
      "(56464, 19)\n",
      "123\n",
      "(56464, 19)\n",
      "123\n"
     ]
    }
   ],
   "source": [
    "# Check df shape and number of unique accounts\n",
    "print(df.shape)\n",
    "print(len(set(df['user.screen_name'].values)))\n",
    "# Drop duplicates and check shape/number again\n",
    "df = df.drop_duplicates(subset = ['id', 'full_text'], keep='first')\n",
    "print(df.shape)\n",
    "print(len(set(df['user.screen_name'].values)))"
   ]
  },
  {
   "cell_type": "code",
   "execution_count": 10,
   "metadata": {},
   "outputs": [],
   "source": [
    "# Save final df\n",
    "with open(save_name,'wb') as file:\n",
    "    pickle.dump(df,file)"
   ]
  }
 ],
 "metadata": {
  "kernelspec": {
   "display_name": "Python 3",
   "language": "python",
   "name": "python3"
  },
  "language_info": {
   "codemirror_mode": {
    "name": "ipython",
    "version": 3
   },
   "file_extension": ".py",
   "mimetype": "text/x-python",
   "name": "python",
   "nbconvert_exporter": "python",
   "pygments_lexer": "ipython3",
   "version": "3.7.7"
  }
 },
 "nbformat": 4,
 "nbformat_minor": 4
}
